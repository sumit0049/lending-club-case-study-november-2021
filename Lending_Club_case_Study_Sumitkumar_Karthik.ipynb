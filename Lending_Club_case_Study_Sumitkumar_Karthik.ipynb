{
 "cells": [
  {
   "cell_type": "markdown",
   "metadata": {},
   "source": [
    "# Upgrad Lending Club Case Study\n",
    "\n",
    "## Case Study Partners:\n",
    "1. **GROUP FACILITATOR : SUMITKUMAR NAYAK**\n",
    "2. **TEAM MEMBER : KARTHIK VARMA VEGESNA**\n",
    "\n",
    "## Problem Statement\n",
    "\n",
    "### Introduction\n",
    "<p>Solving this assignment will give you an idea about how real business problems are solved using EDA. In this case study, apart from applying the techniques you have learnt in EDA, you will also develop a basic understanding of risk analytics in banking and financial services and understand how data is used to minimise the risk of losing money while lending to customers.</p>\n",
    "\n",
    "### Business Understanding\n",
    "<p>You work for a consumer finance company which specialises in lending various types of loans to urban customers. When the company receives a loan application, the company has to make a decision for loan approval based on the applicant’s profile. Two types of risks are associated with the bank’s decision:</p>\n",
    "\n",
    "    1. If the applicant is likely to repay the loan, then not approving the loan results in a loss of business to the company\n",
    "    2. If the applicant is not likely to repay the loan, i.e. he/she is likely to default, then approving the loan may lead to a financial loss for the company\n",
    "\n",
    "<p>The data given below contains the information about past loan applicants and whether they ‘defaulted’ or not. The aim is to identify patterns which indicate if a person is likely to default, which may be used for taking actions such as denying the loan, reducing the amount of loan, lending (to risky applicants) at a higher interest rate, etc.</p>\n",
    "\n",
    "<p>In this case study, you will use EDA to understand how consumer attributes and loan attributes influence the tendency of default.</p>\n",
    "\n",
    "<img src=\"https://cdn.upgrad.com/UpGrad/temp/7afbce98-8ecc-41c6-96d8-981cba7d343f/Loan_image.png\">\n",
    "\n",
    "<p>When a person applies for a loan, there are two types of decisions that could be taken by the company:</p>\n",
    "\n",
    "    1. Loan accepted: If the company approves the loan, there are 3 possible scenarios described below:\n",
    "        1. Fully paid: Applicant has fully paid the loan (the principal and the interest rate)\n",
    "        2. Current: Applicant is in the process of paying the instalments, i.e. the tenure of the loan is not yet completed. These candidates are not labelled as 'defaulted'.\n",
    "        3.Charged-off: Applicant has not paid the instalments in due time for a long period of time, i.e. he/she has defaulted on the loan \n",
    "\n",
    "    2. Loan rejected: The company had rejected the loan (because the candidate does not meet their requirements etc.). Since the loan was rejected, there is no transactional history of those applicants with the company and so this data is not available with the company (and thus in this dataset)\n",
    " \n",
    "\n",
    "### Business Objectives\n",
    "\n",
    "<p>This company is the largest online loan marketplace, facilitating personal loans, business loans, and financing of medical procedures. Borrowers can easily access lower interest rate loans through a fast online interface.</p>\n",
    "\n",
    "<p>Like most other lending companies, lending loans to ‘risky’ applicants is the largest source of financial loss (called credit loss). The credit loss is the amount of money lost by the lender when the borrower refuses to pay or runs away with the money owed. In other words, borrowers who default cause the largest amount of loss to the lenders. In this case, the customers labelled as 'charged-off' are the 'defaulters'.</p>\n",
    "\n",
    "<p>If one is able to identify these risky loan applicants, then such loans can be reduced thereby cutting down the amount of credit loss. Identification of such applicants using EDA is the aim of this case study.</p>\n",
    "\n",
    "<p>In other words, the company wants to understand the driving factors (or driver variables) behind loan default, i.e. the variables which are strong indicators of default.  The company can utilise this knowledge for its portfolio and risk assessment.</p>\n",
    "\n",
    "<p>To develop your understanding of the domain, you are advised to independently research a little about risk analytics (understanding the types of variables and their significance should be enough).</p>"
   ]
  },
  {
   "cell_type": "markdown",
   "metadata": {},
   "source": [
    "## Step 1: We have to import the Python Packages"
   ]
  },
  {
   "cell_type": "code",
   "execution_count": 2,
   "metadata": {},
   "outputs": [],
   "source": [
    "import numpy as np\n",
    "import pandas as pd\n",
    "import matplotlib.pyplot as plt\n",
    "import seaborn as sns\n",
    "\n",
    "pd.options.display.float_format = '{:,.2f}'.format\n",
    "# This is view all the colums\n",
    "pd.set_option('max_columns', None)\n"
   ]
  },
  {
   "cell_type": "markdown",
   "metadata": {},
   "source": [
    "## Step 2: Import the CSV of loan.csv and creating Data Set and Data understanding"
   ]
  },
  {
   "cell_type": "code",
   "execution_count": 3,
   "metadata": {},
   "outputs": [],
   "source": [
    "loan_data = pd.read_csv(\"loan.csv\",dtype='unicode', error_bad_lines=False)\n",
    "#  dtype='unicode' => It will bascially encode all the data in unicode format. Also when we did not use dtype it was giving Datatype warning\n",
    "# 4.55"
   ]
  },
  {
   "cell_type": "code",
   "execution_count": 4,
   "metadata": {},
   "outputs": [
    {
     "data": {
      "text/html": [
       "<div>\n",
       "<style scoped>\n",
       "    .dataframe tbody tr th:only-of-type {\n",
       "        vertical-align: middle;\n",
       "    }\n",
       "\n",
       "    .dataframe tbody tr th {\n",
       "        vertical-align: top;\n",
       "    }\n",
       "\n",
       "    .dataframe thead th {\n",
       "        text-align: right;\n",
       "    }\n",
       "</style>\n",
       "<table border=\"1\" class=\"dataframe\">\n",
       "  <thead>\n",
       "    <tr style=\"text-align: right;\">\n",
       "      <th></th>\n",
       "      <th>id</th>\n",
       "      <th>member_id</th>\n",
       "      <th>loan_amnt</th>\n",
       "      <th>funded_amnt</th>\n",
       "      <th>funded_amnt_inv</th>\n",
       "      <th>term</th>\n",
       "      <th>int_rate</th>\n",
       "      <th>installment</th>\n",
       "      <th>grade</th>\n",
       "      <th>sub_grade</th>\n",
       "      <th>emp_title</th>\n",
       "      <th>emp_length</th>\n",
       "      <th>home_ownership</th>\n",
       "      <th>annual_inc</th>\n",
       "      <th>verification_status</th>\n",
       "      <th>issue_d</th>\n",
       "      <th>loan_status</th>\n",
       "      <th>pymnt_plan</th>\n",
       "      <th>url</th>\n",
       "      <th>desc</th>\n",
       "      <th>purpose</th>\n",
       "      <th>title</th>\n",
       "      <th>zip_code</th>\n",
       "      <th>addr_state</th>\n",
       "      <th>dti</th>\n",
       "      <th>delinq_2yrs</th>\n",
       "      <th>earliest_cr_line</th>\n",
       "      <th>inq_last_6mths</th>\n",
       "      <th>mths_since_last_delinq</th>\n",
       "      <th>mths_since_last_record</th>\n",
       "      <th>open_acc</th>\n",
       "      <th>pub_rec</th>\n",
       "      <th>revol_bal</th>\n",
       "      <th>revol_util</th>\n",
       "      <th>total_acc</th>\n",
       "      <th>initial_list_status</th>\n",
       "      <th>out_prncp</th>\n",
       "      <th>out_prncp_inv</th>\n",
       "      <th>total_pymnt</th>\n",
       "      <th>total_pymnt_inv</th>\n",
       "      <th>total_rec_prncp</th>\n",
       "      <th>total_rec_int</th>\n",
       "      <th>total_rec_late_fee</th>\n",
       "      <th>recoveries</th>\n",
       "      <th>collection_recovery_fee</th>\n",
       "      <th>last_pymnt_d</th>\n",
       "      <th>last_pymnt_amnt</th>\n",
       "      <th>next_pymnt_d</th>\n",
       "      <th>last_credit_pull_d</th>\n",
       "      <th>collections_12_mths_ex_med</th>\n",
       "      <th>mths_since_last_major_derog</th>\n",
       "      <th>policy_code</th>\n",
       "      <th>application_type</th>\n",
       "      <th>annual_inc_joint</th>\n",
       "      <th>dti_joint</th>\n",
       "      <th>verification_status_joint</th>\n",
       "      <th>acc_now_delinq</th>\n",
       "      <th>tot_coll_amt</th>\n",
       "      <th>tot_cur_bal</th>\n",
       "      <th>open_acc_6m</th>\n",
       "      <th>open_il_6m</th>\n",
       "      <th>open_il_12m</th>\n",
       "      <th>open_il_24m</th>\n",
       "      <th>mths_since_rcnt_il</th>\n",
       "      <th>total_bal_il</th>\n",
       "      <th>il_util</th>\n",
       "      <th>open_rv_12m</th>\n",
       "      <th>open_rv_24m</th>\n",
       "      <th>max_bal_bc</th>\n",
       "      <th>all_util</th>\n",
       "      <th>total_rev_hi_lim</th>\n",
       "      <th>inq_fi</th>\n",
       "      <th>total_cu_tl</th>\n",
       "      <th>inq_last_12m</th>\n",
       "      <th>acc_open_past_24mths</th>\n",
       "      <th>avg_cur_bal</th>\n",
       "      <th>bc_open_to_buy</th>\n",
       "      <th>bc_util</th>\n",
       "      <th>chargeoff_within_12_mths</th>\n",
       "      <th>delinq_amnt</th>\n",
       "      <th>mo_sin_old_il_acct</th>\n",
       "      <th>mo_sin_old_rev_tl_op</th>\n",
       "      <th>mo_sin_rcnt_rev_tl_op</th>\n",
       "      <th>mo_sin_rcnt_tl</th>\n",
       "      <th>mort_acc</th>\n",
       "      <th>mths_since_recent_bc</th>\n",
       "      <th>mths_since_recent_bc_dlq</th>\n",
       "      <th>mths_since_recent_inq</th>\n",
       "      <th>mths_since_recent_revol_delinq</th>\n",
       "      <th>num_accts_ever_120_pd</th>\n",
       "      <th>num_actv_bc_tl</th>\n",
       "      <th>num_actv_rev_tl</th>\n",
       "      <th>num_bc_sats</th>\n",
       "      <th>num_bc_tl</th>\n",
       "      <th>num_il_tl</th>\n",
       "      <th>num_op_rev_tl</th>\n",
       "      <th>num_rev_accts</th>\n",
       "      <th>num_rev_tl_bal_gt_0</th>\n",
       "      <th>num_sats</th>\n",
       "      <th>num_tl_120dpd_2m</th>\n",
       "      <th>num_tl_30dpd</th>\n",
       "      <th>num_tl_90g_dpd_24m</th>\n",
       "      <th>num_tl_op_past_12m</th>\n",
       "      <th>pct_tl_nvr_dlq</th>\n",
       "      <th>percent_bc_gt_75</th>\n",
       "      <th>pub_rec_bankruptcies</th>\n",
       "      <th>tax_liens</th>\n",
       "      <th>tot_hi_cred_lim</th>\n",
       "      <th>total_bal_ex_mort</th>\n",
       "      <th>total_bc_limit</th>\n",
       "      <th>total_il_high_credit_limit</th>\n",
       "    </tr>\n",
       "  </thead>\n",
       "  <tbody>\n",
       "    <tr>\n",
       "      <th>0</th>\n",
       "      <td>1077501</td>\n",
       "      <td>1296599</td>\n",
       "      <td>5000</td>\n",
       "      <td>5000</td>\n",
       "      <td>4975</td>\n",
       "      <td>36 months</td>\n",
       "      <td>10.65%</td>\n",
       "      <td>162.87</td>\n",
       "      <td>B</td>\n",
       "      <td>B2</td>\n",
       "      <td>NaN</td>\n",
       "      <td>10+ years</td>\n",
       "      <td>RENT</td>\n",
       "      <td>24000</td>\n",
       "      <td>Verified</td>\n",
       "      <td>Dec-11</td>\n",
       "      <td>Fully Paid</td>\n",
       "      <td>n</td>\n",
       "      <td>https://lendingclub.com/browse/loanDetail.acti...</td>\n",
       "      <td>Borrower added on 12/22/11 &gt; I need to upgra...</td>\n",
       "      <td>credit_card</td>\n",
       "      <td>Computer</td>\n",
       "      <td>860xx</td>\n",
       "      <td>AZ</td>\n",
       "      <td>27.65</td>\n",
       "      <td>0</td>\n",
       "      <td>Jan-85</td>\n",
       "      <td>1</td>\n",
       "      <td>NaN</td>\n",
       "      <td>NaN</td>\n",
       "      <td>3</td>\n",
       "      <td>0</td>\n",
       "      <td>13648</td>\n",
       "      <td>83.70%</td>\n",
       "      <td>9</td>\n",
       "      <td>f</td>\n",
       "      <td>0</td>\n",
       "      <td>0</td>\n",
       "      <td>5863.155187</td>\n",
       "      <td>5833.84</td>\n",
       "      <td>5000</td>\n",
       "      <td>863.16</td>\n",
       "      <td>0</td>\n",
       "      <td>0</td>\n",
       "      <td>0</td>\n",
       "      <td>Jan-15</td>\n",
       "      <td>171.62</td>\n",
       "      <td>NaN</td>\n",
       "      <td>May-16</td>\n",
       "      <td>0</td>\n",
       "      <td>NaN</td>\n",
       "      <td>1</td>\n",
       "      <td>INDIVIDUAL</td>\n",
       "      <td>NaN</td>\n",
       "      <td>NaN</td>\n",
       "      <td>NaN</td>\n",
       "      <td>0</td>\n",
       "      <td>NaN</td>\n",
       "      <td>NaN</td>\n",
       "      <td>NaN</td>\n",
       "      <td>NaN</td>\n",
       "      <td>NaN</td>\n",
       "      <td>NaN</td>\n",
       "      <td>NaN</td>\n",
       "      <td>NaN</td>\n",
       "      <td>NaN</td>\n",
       "      <td>NaN</td>\n",
       "      <td>NaN</td>\n",
       "      <td>NaN</td>\n",
       "      <td>NaN</td>\n",
       "      <td>NaN</td>\n",
       "      <td>NaN</td>\n",
       "      <td>NaN</td>\n",
       "      <td>NaN</td>\n",
       "      <td>NaN</td>\n",
       "      <td>NaN</td>\n",
       "      <td>NaN</td>\n",
       "      <td>NaN</td>\n",
       "      <td>0</td>\n",
       "      <td>0</td>\n",
       "      <td>NaN</td>\n",
       "      <td>NaN</td>\n",
       "      <td>NaN</td>\n",
       "      <td>NaN</td>\n",
       "      <td>NaN</td>\n",
       "      <td>NaN</td>\n",
       "      <td>NaN</td>\n",
       "      <td>NaN</td>\n",
       "      <td>NaN</td>\n",
       "      <td>NaN</td>\n",
       "      <td>NaN</td>\n",
       "      <td>NaN</td>\n",
       "      <td>NaN</td>\n",
       "      <td>NaN</td>\n",
       "      <td>NaN</td>\n",
       "      <td>NaN</td>\n",
       "      <td>NaN</td>\n",
       "      <td>NaN</td>\n",
       "      <td>NaN</td>\n",
       "      <td>NaN</td>\n",
       "      <td>NaN</td>\n",
       "      <td>NaN</td>\n",
       "      <td>NaN</td>\n",
       "      <td>NaN</td>\n",
       "      <td>NaN</td>\n",
       "      <td>0</td>\n",
       "      <td>0</td>\n",
       "      <td>NaN</td>\n",
       "      <td>NaN</td>\n",
       "      <td>NaN</td>\n",
       "      <td>NaN</td>\n",
       "    </tr>\n",
       "    <tr>\n",
       "      <th>1</th>\n",
       "      <td>1077430</td>\n",
       "      <td>1314167</td>\n",
       "      <td>2500</td>\n",
       "      <td>2500</td>\n",
       "      <td>2500</td>\n",
       "      <td>60 months</td>\n",
       "      <td>15.27%</td>\n",
       "      <td>59.83</td>\n",
       "      <td>C</td>\n",
       "      <td>C4</td>\n",
       "      <td>Ryder</td>\n",
       "      <td>&lt; 1 year</td>\n",
       "      <td>RENT</td>\n",
       "      <td>30000</td>\n",
       "      <td>Source Verified</td>\n",
       "      <td>Dec-11</td>\n",
       "      <td>Charged Off</td>\n",
       "      <td>n</td>\n",
       "      <td>https://lendingclub.com/browse/loanDetail.acti...</td>\n",
       "      <td>Borrower added on 12/22/11 &gt; I plan to use t...</td>\n",
       "      <td>car</td>\n",
       "      <td>bike</td>\n",
       "      <td>309xx</td>\n",
       "      <td>GA</td>\n",
       "      <td>1</td>\n",
       "      <td>0</td>\n",
       "      <td>Apr-99</td>\n",
       "      <td>5</td>\n",
       "      <td>NaN</td>\n",
       "      <td>NaN</td>\n",
       "      <td>3</td>\n",
       "      <td>0</td>\n",
       "      <td>1687</td>\n",
       "      <td>9.40%</td>\n",
       "      <td>4</td>\n",
       "      <td>f</td>\n",
       "      <td>0</td>\n",
       "      <td>0</td>\n",
       "      <td>1008.71</td>\n",
       "      <td>1008.71</td>\n",
       "      <td>456.46</td>\n",
       "      <td>435.17</td>\n",
       "      <td>0</td>\n",
       "      <td>117.08</td>\n",
       "      <td>1.11</td>\n",
       "      <td>Apr-13</td>\n",
       "      <td>119.66</td>\n",
       "      <td>NaN</td>\n",
       "      <td>Sep-13</td>\n",
       "      <td>0</td>\n",
       "      <td>NaN</td>\n",
       "      <td>1</td>\n",
       "      <td>INDIVIDUAL</td>\n",
       "      <td>NaN</td>\n",
       "      <td>NaN</td>\n",
       "      <td>NaN</td>\n",
       "      <td>0</td>\n",
       "      <td>NaN</td>\n",
       "      <td>NaN</td>\n",
       "      <td>NaN</td>\n",
       "      <td>NaN</td>\n",
       "      <td>NaN</td>\n",
       "      <td>NaN</td>\n",
       "      <td>NaN</td>\n",
       "      <td>NaN</td>\n",
       "      <td>NaN</td>\n",
       "      <td>NaN</td>\n",
       "      <td>NaN</td>\n",
       "      <td>NaN</td>\n",
       "      <td>NaN</td>\n",
       "      <td>NaN</td>\n",
       "      <td>NaN</td>\n",
       "      <td>NaN</td>\n",
       "      <td>NaN</td>\n",
       "      <td>NaN</td>\n",
       "      <td>NaN</td>\n",
       "      <td>NaN</td>\n",
       "      <td>NaN</td>\n",
       "      <td>0</td>\n",
       "      <td>0</td>\n",
       "      <td>NaN</td>\n",
       "      <td>NaN</td>\n",
       "      <td>NaN</td>\n",
       "      <td>NaN</td>\n",
       "      <td>NaN</td>\n",
       "      <td>NaN</td>\n",
       "      <td>NaN</td>\n",
       "      <td>NaN</td>\n",
       "      <td>NaN</td>\n",
       "      <td>NaN</td>\n",
       "      <td>NaN</td>\n",
       "      <td>NaN</td>\n",
       "      <td>NaN</td>\n",
       "      <td>NaN</td>\n",
       "      <td>NaN</td>\n",
       "      <td>NaN</td>\n",
       "      <td>NaN</td>\n",
       "      <td>NaN</td>\n",
       "      <td>NaN</td>\n",
       "      <td>NaN</td>\n",
       "      <td>NaN</td>\n",
       "      <td>NaN</td>\n",
       "      <td>NaN</td>\n",
       "      <td>NaN</td>\n",
       "      <td>NaN</td>\n",
       "      <td>0</td>\n",
       "      <td>0</td>\n",
       "      <td>NaN</td>\n",
       "      <td>NaN</td>\n",
       "      <td>NaN</td>\n",
       "      <td>NaN</td>\n",
       "    </tr>\n",
       "    <tr>\n",
       "      <th>2</th>\n",
       "      <td>1077175</td>\n",
       "      <td>1313524</td>\n",
       "      <td>2400</td>\n",
       "      <td>2400</td>\n",
       "      <td>2400</td>\n",
       "      <td>36 months</td>\n",
       "      <td>15.96%</td>\n",
       "      <td>84.33</td>\n",
       "      <td>C</td>\n",
       "      <td>C5</td>\n",
       "      <td>NaN</td>\n",
       "      <td>10+ years</td>\n",
       "      <td>RENT</td>\n",
       "      <td>12252</td>\n",
       "      <td>Not Verified</td>\n",
       "      <td>Dec-11</td>\n",
       "      <td>Fully Paid</td>\n",
       "      <td>n</td>\n",
       "      <td>https://lendingclub.com/browse/loanDetail.acti...</td>\n",
       "      <td>NaN</td>\n",
       "      <td>small_business</td>\n",
       "      <td>real estate business</td>\n",
       "      <td>606xx</td>\n",
       "      <td>IL</td>\n",
       "      <td>8.72</td>\n",
       "      <td>0</td>\n",
       "      <td>Nov-01</td>\n",
       "      <td>2</td>\n",
       "      <td>NaN</td>\n",
       "      <td>NaN</td>\n",
       "      <td>2</td>\n",
       "      <td>0</td>\n",
       "      <td>2956</td>\n",
       "      <td>98.50%</td>\n",
       "      <td>10</td>\n",
       "      <td>f</td>\n",
       "      <td>0</td>\n",
       "      <td>0</td>\n",
       "      <td>3005.666844</td>\n",
       "      <td>3005.67</td>\n",
       "      <td>2400</td>\n",
       "      <td>605.67</td>\n",
       "      <td>0</td>\n",
       "      <td>0</td>\n",
       "      <td>0</td>\n",
       "      <td>Jun-14</td>\n",
       "      <td>649.91</td>\n",
       "      <td>NaN</td>\n",
       "      <td>May-16</td>\n",
       "      <td>0</td>\n",
       "      <td>NaN</td>\n",
       "      <td>1</td>\n",
       "      <td>INDIVIDUAL</td>\n",
       "      <td>NaN</td>\n",
       "      <td>NaN</td>\n",
       "      <td>NaN</td>\n",
       "      <td>0</td>\n",
       "      <td>NaN</td>\n",
       "      <td>NaN</td>\n",
       "      <td>NaN</td>\n",
       "      <td>NaN</td>\n",
       "      <td>NaN</td>\n",
       "      <td>NaN</td>\n",
       "      <td>NaN</td>\n",
       "      <td>NaN</td>\n",
       "      <td>NaN</td>\n",
       "      <td>NaN</td>\n",
       "      <td>NaN</td>\n",
       "      <td>NaN</td>\n",
       "      <td>NaN</td>\n",
       "      <td>NaN</td>\n",
       "      <td>NaN</td>\n",
       "      <td>NaN</td>\n",
       "      <td>NaN</td>\n",
       "      <td>NaN</td>\n",
       "      <td>NaN</td>\n",
       "      <td>NaN</td>\n",
       "      <td>NaN</td>\n",
       "      <td>0</td>\n",
       "      <td>0</td>\n",
       "      <td>NaN</td>\n",
       "      <td>NaN</td>\n",
       "      <td>NaN</td>\n",
       "      <td>NaN</td>\n",
       "      <td>NaN</td>\n",
       "      <td>NaN</td>\n",
       "      <td>NaN</td>\n",
       "      <td>NaN</td>\n",
       "      <td>NaN</td>\n",
       "      <td>NaN</td>\n",
       "      <td>NaN</td>\n",
       "      <td>NaN</td>\n",
       "      <td>NaN</td>\n",
       "      <td>NaN</td>\n",
       "      <td>NaN</td>\n",
       "      <td>NaN</td>\n",
       "      <td>NaN</td>\n",
       "      <td>NaN</td>\n",
       "      <td>NaN</td>\n",
       "      <td>NaN</td>\n",
       "      <td>NaN</td>\n",
       "      <td>NaN</td>\n",
       "      <td>NaN</td>\n",
       "      <td>NaN</td>\n",
       "      <td>NaN</td>\n",
       "      <td>0</td>\n",
       "      <td>0</td>\n",
       "      <td>NaN</td>\n",
       "      <td>NaN</td>\n",
       "      <td>NaN</td>\n",
       "      <td>NaN</td>\n",
       "    </tr>\n",
       "    <tr>\n",
       "      <th>3</th>\n",
       "      <td>1076863</td>\n",
       "      <td>1277178</td>\n",
       "      <td>10000</td>\n",
       "      <td>10000</td>\n",
       "      <td>10000</td>\n",
       "      <td>36 months</td>\n",
       "      <td>13.49%</td>\n",
       "      <td>339.31</td>\n",
       "      <td>C</td>\n",
       "      <td>C1</td>\n",
       "      <td>AIR RESOURCES BOARD</td>\n",
       "      <td>10+ years</td>\n",
       "      <td>RENT</td>\n",
       "      <td>49200</td>\n",
       "      <td>Source Verified</td>\n",
       "      <td>Dec-11</td>\n",
       "      <td>Fully Paid</td>\n",
       "      <td>n</td>\n",
       "      <td>https://lendingclub.com/browse/loanDetail.acti...</td>\n",
       "      <td>Borrower added on 12/21/11 &gt; to pay for prop...</td>\n",
       "      <td>other</td>\n",
       "      <td>personel</td>\n",
       "      <td>917xx</td>\n",
       "      <td>CA</td>\n",
       "      <td>20</td>\n",
       "      <td>0</td>\n",
       "      <td>Feb-96</td>\n",
       "      <td>1</td>\n",
       "      <td>35</td>\n",
       "      <td>NaN</td>\n",
       "      <td>10</td>\n",
       "      <td>0</td>\n",
       "      <td>5598</td>\n",
       "      <td>21%</td>\n",
       "      <td>37</td>\n",
       "      <td>f</td>\n",
       "      <td>0</td>\n",
       "      <td>0</td>\n",
       "      <td>12231.89</td>\n",
       "      <td>12231.89</td>\n",
       "      <td>10000</td>\n",
       "      <td>2214.92</td>\n",
       "      <td>16.97</td>\n",
       "      <td>0</td>\n",
       "      <td>0</td>\n",
       "      <td>Jan-15</td>\n",
       "      <td>357.48</td>\n",
       "      <td>NaN</td>\n",
       "      <td>Apr-16</td>\n",
       "      <td>0</td>\n",
       "      <td>NaN</td>\n",
       "      <td>1</td>\n",
       "      <td>INDIVIDUAL</td>\n",
       "      <td>NaN</td>\n",
       "      <td>NaN</td>\n",
       "      <td>NaN</td>\n",
       "      <td>0</td>\n",
       "      <td>NaN</td>\n",
       "      <td>NaN</td>\n",
       "      <td>NaN</td>\n",
       "      <td>NaN</td>\n",
       "      <td>NaN</td>\n",
       "      <td>NaN</td>\n",
       "      <td>NaN</td>\n",
       "      <td>NaN</td>\n",
       "      <td>NaN</td>\n",
       "      <td>NaN</td>\n",
       "      <td>NaN</td>\n",
       "      <td>NaN</td>\n",
       "      <td>NaN</td>\n",
       "      <td>NaN</td>\n",
       "      <td>NaN</td>\n",
       "      <td>NaN</td>\n",
       "      <td>NaN</td>\n",
       "      <td>NaN</td>\n",
       "      <td>NaN</td>\n",
       "      <td>NaN</td>\n",
       "      <td>NaN</td>\n",
       "      <td>0</td>\n",
       "      <td>0</td>\n",
       "      <td>NaN</td>\n",
       "      <td>NaN</td>\n",
       "      <td>NaN</td>\n",
       "      <td>NaN</td>\n",
       "      <td>NaN</td>\n",
       "      <td>NaN</td>\n",
       "      <td>NaN</td>\n",
       "      <td>NaN</td>\n",
       "      <td>NaN</td>\n",
       "      <td>NaN</td>\n",
       "      <td>NaN</td>\n",
       "      <td>NaN</td>\n",
       "      <td>NaN</td>\n",
       "      <td>NaN</td>\n",
       "      <td>NaN</td>\n",
       "      <td>NaN</td>\n",
       "      <td>NaN</td>\n",
       "      <td>NaN</td>\n",
       "      <td>NaN</td>\n",
       "      <td>NaN</td>\n",
       "      <td>NaN</td>\n",
       "      <td>NaN</td>\n",
       "      <td>NaN</td>\n",
       "      <td>NaN</td>\n",
       "      <td>NaN</td>\n",
       "      <td>0</td>\n",
       "      <td>0</td>\n",
       "      <td>NaN</td>\n",
       "      <td>NaN</td>\n",
       "      <td>NaN</td>\n",
       "      <td>NaN</td>\n",
       "    </tr>\n",
       "    <tr>\n",
       "      <th>4</th>\n",
       "      <td>1075358</td>\n",
       "      <td>1311748</td>\n",
       "      <td>3000</td>\n",
       "      <td>3000</td>\n",
       "      <td>3000</td>\n",
       "      <td>60 months</td>\n",
       "      <td>12.69%</td>\n",
       "      <td>67.79</td>\n",
       "      <td>B</td>\n",
       "      <td>B5</td>\n",
       "      <td>University Medical Group</td>\n",
       "      <td>1 year</td>\n",
       "      <td>RENT</td>\n",
       "      <td>80000</td>\n",
       "      <td>Source Verified</td>\n",
       "      <td>Dec-11</td>\n",
       "      <td>Current</td>\n",
       "      <td>n</td>\n",
       "      <td>https://lendingclub.com/browse/loanDetail.acti...</td>\n",
       "      <td>Borrower added on 12/21/11 &gt; I plan on combi...</td>\n",
       "      <td>other</td>\n",
       "      <td>Personal</td>\n",
       "      <td>972xx</td>\n",
       "      <td>OR</td>\n",
       "      <td>17.94</td>\n",
       "      <td>0</td>\n",
       "      <td>Jan-96</td>\n",
       "      <td>0</td>\n",
       "      <td>38</td>\n",
       "      <td>NaN</td>\n",
       "      <td>15</td>\n",
       "      <td>0</td>\n",
       "      <td>27783</td>\n",
       "      <td>53.90%</td>\n",
       "      <td>38</td>\n",
       "      <td>f</td>\n",
       "      <td>524.06</td>\n",
       "      <td>524.06</td>\n",
       "      <td>3513.33</td>\n",
       "      <td>3513.33</td>\n",
       "      <td>2475.94</td>\n",
       "      <td>1037.39</td>\n",
       "      <td>0</td>\n",
       "      <td>0</td>\n",
       "      <td>0</td>\n",
       "      <td>May-16</td>\n",
       "      <td>67.79</td>\n",
       "      <td>Jun-16</td>\n",
       "      <td>May-16</td>\n",
       "      <td>0</td>\n",
       "      <td>NaN</td>\n",
       "      <td>1</td>\n",
       "      <td>INDIVIDUAL</td>\n",
       "      <td>NaN</td>\n",
       "      <td>NaN</td>\n",
       "      <td>NaN</td>\n",
       "      <td>0</td>\n",
       "      <td>NaN</td>\n",
       "      <td>NaN</td>\n",
       "      <td>NaN</td>\n",
       "      <td>NaN</td>\n",
       "      <td>NaN</td>\n",
       "      <td>NaN</td>\n",
       "      <td>NaN</td>\n",
       "      <td>NaN</td>\n",
       "      <td>NaN</td>\n",
       "      <td>NaN</td>\n",
       "      <td>NaN</td>\n",
       "      <td>NaN</td>\n",
       "      <td>NaN</td>\n",
       "      <td>NaN</td>\n",
       "      <td>NaN</td>\n",
       "      <td>NaN</td>\n",
       "      <td>NaN</td>\n",
       "      <td>NaN</td>\n",
       "      <td>NaN</td>\n",
       "      <td>NaN</td>\n",
       "      <td>NaN</td>\n",
       "      <td>0</td>\n",
       "      <td>0</td>\n",
       "      <td>NaN</td>\n",
       "      <td>NaN</td>\n",
       "      <td>NaN</td>\n",
       "      <td>NaN</td>\n",
       "      <td>NaN</td>\n",
       "      <td>NaN</td>\n",
       "      <td>NaN</td>\n",
       "      <td>NaN</td>\n",
       "      <td>NaN</td>\n",
       "      <td>NaN</td>\n",
       "      <td>NaN</td>\n",
       "      <td>NaN</td>\n",
       "      <td>NaN</td>\n",
       "      <td>NaN</td>\n",
       "      <td>NaN</td>\n",
       "      <td>NaN</td>\n",
       "      <td>NaN</td>\n",
       "      <td>NaN</td>\n",
       "      <td>NaN</td>\n",
       "      <td>NaN</td>\n",
       "      <td>NaN</td>\n",
       "      <td>NaN</td>\n",
       "      <td>NaN</td>\n",
       "      <td>NaN</td>\n",
       "      <td>NaN</td>\n",
       "      <td>0</td>\n",
       "      <td>0</td>\n",
       "      <td>NaN</td>\n",
       "      <td>NaN</td>\n",
       "      <td>NaN</td>\n",
       "      <td>NaN</td>\n",
       "    </tr>\n",
       "  </tbody>\n",
       "</table>\n",
       "</div>"
      ],
      "text/plain": [
       "        id member_id loan_amnt funded_amnt funded_amnt_inv        term  \\\n",
       "0  1077501   1296599      5000        5000            4975   36 months   \n",
       "1  1077430   1314167      2500        2500            2500   60 months   \n",
       "2  1077175   1313524      2400        2400            2400   36 months   \n",
       "3  1076863   1277178     10000       10000           10000   36 months   \n",
       "4  1075358   1311748      3000        3000            3000   60 months   \n",
       "\n",
       "  int_rate installment grade sub_grade                 emp_title emp_length  \\\n",
       "0   10.65%      162.87     B        B2                       NaN  10+ years   \n",
       "1   15.27%       59.83     C        C4                     Ryder   < 1 year   \n",
       "2   15.96%       84.33     C        C5                       NaN  10+ years   \n",
       "3   13.49%      339.31     C        C1       AIR RESOURCES BOARD  10+ years   \n",
       "4   12.69%       67.79     B        B5  University Medical Group     1 year   \n",
       "\n",
       "  home_ownership annual_inc verification_status issue_d  loan_status  \\\n",
       "0           RENT      24000            Verified  Dec-11   Fully Paid   \n",
       "1           RENT      30000     Source Verified  Dec-11  Charged Off   \n",
       "2           RENT      12252        Not Verified  Dec-11   Fully Paid   \n",
       "3           RENT      49200     Source Verified  Dec-11   Fully Paid   \n",
       "4           RENT      80000     Source Verified  Dec-11      Current   \n",
       "\n",
       "  pymnt_plan                                                url  \\\n",
       "0          n  https://lendingclub.com/browse/loanDetail.acti...   \n",
       "1          n  https://lendingclub.com/browse/loanDetail.acti...   \n",
       "2          n  https://lendingclub.com/browse/loanDetail.acti...   \n",
       "3          n  https://lendingclub.com/browse/loanDetail.acti...   \n",
       "4          n  https://lendingclub.com/browse/loanDetail.acti...   \n",
       "\n",
       "                                                desc         purpose  \\\n",
       "0    Borrower added on 12/22/11 > I need to upgra...     credit_card   \n",
       "1    Borrower added on 12/22/11 > I plan to use t...             car   \n",
       "2                                                NaN  small_business   \n",
       "3    Borrower added on 12/21/11 > to pay for prop...           other   \n",
       "4    Borrower added on 12/21/11 > I plan on combi...           other   \n",
       "\n",
       "                  title zip_code addr_state    dti delinq_2yrs  \\\n",
       "0              Computer    860xx         AZ  27.65           0   \n",
       "1                  bike    309xx         GA      1           0   \n",
       "2  real estate business    606xx         IL   8.72           0   \n",
       "3              personel    917xx         CA     20           0   \n",
       "4              Personal    972xx         OR  17.94           0   \n",
       "\n",
       "  earliest_cr_line inq_last_6mths mths_since_last_delinq  \\\n",
       "0           Jan-85              1                    NaN   \n",
       "1           Apr-99              5                    NaN   \n",
       "2           Nov-01              2                    NaN   \n",
       "3           Feb-96              1                     35   \n",
       "4           Jan-96              0                     38   \n",
       "\n",
       "  mths_since_last_record open_acc pub_rec revol_bal revol_util total_acc  \\\n",
       "0                    NaN        3       0     13648     83.70%         9   \n",
       "1                    NaN        3       0      1687      9.40%         4   \n",
       "2                    NaN        2       0      2956     98.50%        10   \n",
       "3                    NaN       10       0      5598        21%        37   \n",
       "4                    NaN       15       0     27783     53.90%        38   \n",
       "\n",
       "  initial_list_status out_prncp out_prncp_inv  total_pymnt total_pymnt_inv  \\\n",
       "0                   f         0             0  5863.155187         5833.84   \n",
       "1                   f         0             0      1008.71         1008.71   \n",
       "2                   f         0             0  3005.666844         3005.67   \n",
       "3                   f         0             0     12231.89        12231.89   \n",
       "4                   f    524.06        524.06      3513.33         3513.33   \n",
       "\n",
       "  total_rec_prncp total_rec_int total_rec_late_fee recoveries  \\\n",
       "0            5000        863.16                  0          0   \n",
       "1          456.46        435.17                  0     117.08   \n",
       "2            2400        605.67                  0          0   \n",
       "3           10000       2214.92              16.97          0   \n",
       "4         2475.94       1037.39                  0          0   \n",
       "\n",
       "  collection_recovery_fee last_pymnt_d last_pymnt_amnt next_pymnt_d  \\\n",
       "0                       0       Jan-15          171.62          NaN   \n",
       "1                    1.11       Apr-13          119.66          NaN   \n",
       "2                       0       Jun-14          649.91          NaN   \n",
       "3                       0       Jan-15          357.48          NaN   \n",
       "4                       0       May-16           67.79       Jun-16   \n",
       "\n",
       "  last_credit_pull_d collections_12_mths_ex_med mths_since_last_major_derog  \\\n",
       "0             May-16                          0                         NaN   \n",
       "1             Sep-13                          0                         NaN   \n",
       "2             May-16                          0                         NaN   \n",
       "3             Apr-16                          0                         NaN   \n",
       "4             May-16                          0                         NaN   \n",
       "\n",
       "  policy_code application_type annual_inc_joint dti_joint  \\\n",
       "0           1       INDIVIDUAL              NaN       NaN   \n",
       "1           1       INDIVIDUAL              NaN       NaN   \n",
       "2           1       INDIVIDUAL              NaN       NaN   \n",
       "3           1       INDIVIDUAL              NaN       NaN   \n",
       "4           1       INDIVIDUAL              NaN       NaN   \n",
       "\n",
       "  verification_status_joint acc_now_delinq tot_coll_amt tot_cur_bal  \\\n",
       "0                       NaN              0          NaN         NaN   \n",
       "1                       NaN              0          NaN         NaN   \n",
       "2                       NaN              0          NaN         NaN   \n",
       "3                       NaN              0          NaN         NaN   \n",
       "4                       NaN              0          NaN         NaN   \n",
       "\n",
       "  open_acc_6m open_il_6m open_il_12m open_il_24m mths_since_rcnt_il  \\\n",
       "0         NaN        NaN         NaN         NaN                NaN   \n",
       "1         NaN        NaN         NaN         NaN                NaN   \n",
       "2         NaN        NaN         NaN         NaN                NaN   \n",
       "3         NaN        NaN         NaN         NaN                NaN   \n",
       "4         NaN        NaN         NaN         NaN                NaN   \n",
       "\n",
       "  total_bal_il il_util open_rv_12m open_rv_24m max_bal_bc all_util  \\\n",
       "0          NaN     NaN         NaN         NaN        NaN      NaN   \n",
       "1          NaN     NaN         NaN         NaN        NaN      NaN   \n",
       "2          NaN     NaN         NaN         NaN        NaN      NaN   \n",
       "3          NaN     NaN         NaN         NaN        NaN      NaN   \n",
       "4          NaN     NaN         NaN         NaN        NaN      NaN   \n",
       "\n",
       "  total_rev_hi_lim inq_fi total_cu_tl inq_last_12m acc_open_past_24mths  \\\n",
       "0              NaN    NaN         NaN          NaN                  NaN   \n",
       "1              NaN    NaN         NaN          NaN                  NaN   \n",
       "2              NaN    NaN         NaN          NaN                  NaN   \n",
       "3              NaN    NaN         NaN          NaN                  NaN   \n",
       "4              NaN    NaN         NaN          NaN                  NaN   \n",
       "\n",
       "  avg_cur_bal bc_open_to_buy bc_util chargeoff_within_12_mths delinq_amnt  \\\n",
       "0         NaN            NaN     NaN                        0           0   \n",
       "1         NaN            NaN     NaN                        0           0   \n",
       "2         NaN            NaN     NaN                        0           0   \n",
       "3         NaN            NaN     NaN                        0           0   \n",
       "4         NaN            NaN     NaN                        0           0   \n",
       "\n",
       "  mo_sin_old_il_acct mo_sin_old_rev_tl_op mo_sin_rcnt_rev_tl_op  \\\n",
       "0                NaN                  NaN                   NaN   \n",
       "1                NaN                  NaN                   NaN   \n",
       "2                NaN                  NaN                   NaN   \n",
       "3                NaN                  NaN                   NaN   \n",
       "4                NaN                  NaN                   NaN   \n",
       "\n",
       "  mo_sin_rcnt_tl mort_acc mths_since_recent_bc mths_since_recent_bc_dlq  \\\n",
       "0            NaN      NaN                  NaN                      NaN   \n",
       "1            NaN      NaN                  NaN                      NaN   \n",
       "2            NaN      NaN                  NaN                      NaN   \n",
       "3            NaN      NaN                  NaN                      NaN   \n",
       "4            NaN      NaN                  NaN                      NaN   \n",
       "\n",
       "  mths_since_recent_inq mths_since_recent_revol_delinq num_accts_ever_120_pd  \\\n",
       "0                   NaN                            NaN                   NaN   \n",
       "1                   NaN                            NaN                   NaN   \n",
       "2                   NaN                            NaN                   NaN   \n",
       "3                   NaN                            NaN                   NaN   \n",
       "4                   NaN                            NaN                   NaN   \n",
       "\n",
       "  num_actv_bc_tl num_actv_rev_tl num_bc_sats num_bc_tl num_il_tl  \\\n",
       "0            NaN             NaN         NaN       NaN       NaN   \n",
       "1            NaN             NaN         NaN       NaN       NaN   \n",
       "2            NaN             NaN         NaN       NaN       NaN   \n",
       "3            NaN             NaN         NaN       NaN       NaN   \n",
       "4            NaN             NaN         NaN       NaN       NaN   \n",
       "\n",
       "  num_op_rev_tl num_rev_accts num_rev_tl_bal_gt_0 num_sats num_tl_120dpd_2m  \\\n",
       "0           NaN           NaN                 NaN      NaN              NaN   \n",
       "1           NaN           NaN                 NaN      NaN              NaN   \n",
       "2           NaN           NaN                 NaN      NaN              NaN   \n",
       "3           NaN           NaN                 NaN      NaN              NaN   \n",
       "4           NaN           NaN                 NaN      NaN              NaN   \n",
       "\n",
       "  num_tl_30dpd num_tl_90g_dpd_24m num_tl_op_past_12m pct_tl_nvr_dlq  \\\n",
       "0          NaN                NaN                NaN            NaN   \n",
       "1          NaN                NaN                NaN            NaN   \n",
       "2          NaN                NaN                NaN            NaN   \n",
       "3          NaN                NaN                NaN            NaN   \n",
       "4          NaN                NaN                NaN            NaN   \n",
       "\n",
       "  percent_bc_gt_75 pub_rec_bankruptcies tax_liens tot_hi_cred_lim  \\\n",
       "0              NaN                    0         0             NaN   \n",
       "1              NaN                    0         0             NaN   \n",
       "2              NaN                    0         0             NaN   \n",
       "3              NaN                    0         0             NaN   \n",
       "4              NaN                    0         0             NaN   \n",
       "\n",
       "  total_bal_ex_mort total_bc_limit total_il_high_credit_limit  \n",
       "0               NaN            NaN                        NaN  \n",
       "1               NaN            NaN                        NaN  \n",
       "2               NaN            NaN                        NaN  \n",
       "3               NaN            NaN                        NaN  \n",
       "4               NaN            NaN                        NaN  "
      ]
     },
     "execution_count": 4,
     "metadata": {},
     "output_type": "execute_result"
    }
   ],
   "source": [
    "loan_data.head()\n",
    "#This function returns the first n rows for the object based on position. \n",
    "#It is useful for quickly testing if your object has the right type of data in it.\n"
   ]
  },
  {
   "cell_type": "code",
   "execution_count": 5,
   "metadata": {},
   "outputs": [
    {
     "data": {
      "text/html": [
       "<div>\n",
       "<style scoped>\n",
       "    .dataframe tbody tr th:only-of-type {\n",
       "        vertical-align: middle;\n",
       "    }\n",
       "\n",
       "    .dataframe tbody tr th {\n",
       "        vertical-align: top;\n",
       "    }\n",
       "\n",
       "    .dataframe thead th {\n",
       "        text-align: right;\n",
       "    }\n",
       "</style>\n",
       "<table border=\"1\" class=\"dataframe\">\n",
       "  <thead>\n",
       "    <tr style=\"text-align: right;\">\n",
       "      <th></th>\n",
       "      <th>id</th>\n",
       "      <th>member_id</th>\n",
       "      <th>loan_amnt</th>\n",
       "      <th>funded_amnt</th>\n",
       "      <th>funded_amnt_inv</th>\n",
       "      <th>term</th>\n",
       "      <th>int_rate</th>\n",
       "      <th>installment</th>\n",
       "      <th>grade</th>\n",
       "      <th>sub_grade</th>\n",
       "      <th>emp_title</th>\n",
       "      <th>emp_length</th>\n",
       "      <th>home_ownership</th>\n",
       "      <th>annual_inc</th>\n",
       "      <th>verification_status</th>\n",
       "      <th>issue_d</th>\n",
       "      <th>loan_status</th>\n",
       "      <th>pymnt_plan</th>\n",
       "      <th>url</th>\n",
       "      <th>desc</th>\n",
       "      <th>purpose</th>\n",
       "      <th>title</th>\n",
       "      <th>zip_code</th>\n",
       "      <th>addr_state</th>\n",
       "      <th>dti</th>\n",
       "      <th>delinq_2yrs</th>\n",
       "      <th>earliest_cr_line</th>\n",
       "      <th>inq_last_6mths</th>\n",
       "      <th>mths_since_last_delinq</th>\n",
       "      <th>mths_since_last_record</th>\n",
       "      <th>open_acc</th>\n",
       "      <th>pub_rec</th>\n",
       "      <th>revol_bal</th>\n",
       "      <th>revol_util</th>\n",
       "      <th>total_acc</th>\n",
       "      <th>initial_list_status</th>\n",
       "      <th>out_prncp</th>\n",
       "      <th>out_prncp_inv</th>\n",
       "      <th>total_pymnt</th>\n",
       "      <th>total_pymnt_inv</th>\n",
       "      <th>total_rec_prncp</th>\n",
       "      <th>total_rec_int</th>\n",
       "      <th>total_rec_late_fee</th>\n",
       "      <th>recoveries</th>\n",
       "      <th>collection_recovery_fee</th>\n",
       "      <th>last_pymnt_d</th>\n",
       "      <th>last_pymnt_amnt</th>\n",
       "      <th>next_pymnt_d</th>\n",
       "      <th>last_credit_pull_d</th>\n",
       "      <th>collections_12_mths_ex_med</th>\n",
       "      <th>mths_since_last_major_derog</th>\n",
       "      <th>policy_code</th>\n",
       "      <th>application_type</th>\n",
       "      <th>annual_inc_joint</th>\n",
       "      <th>dti_joint</th>\n",
       "      <th>verification_status_joint</th>\n",
       "      <th>acc_now_delinq</th>\n",
       "      <th>tot_coll_amt</th>\n",
       "      <th>tot_cur_bal</th>\n",
       "      <th>open_acc_6m</th>\n",
       "      <th>open_il_6m</th>\n",
       "      <th>open_il_12m</th>\n",
       "      <th>open_il_24m</th>\n",
       "      <th>mths_since_rcnt_il</th>\n",
       "      <th>total_bal_il</th>\n",
       "      <th>il_util</th>\n",
       "      <th>open_rv_12m</th>\n",
       "      <th>open_rv_24m</th>\n",
       "      <th>max_bal_bc</th>\n",
       "      <th>all_util</th>\n",
       "      <th>total_rev_hi_lim</th>\n",
       "      <th>inq_fi</th>\n",
       "      <th>total_cu_tl</th>\n",
       "      <th>inq_last_12m</th>\n",
       "      <th>acc_open_past_24mths</th>\n",
       "      <th>avg_cur_bal</th>\n",
       "      <th>bc_open_to_buy</th>\n",
       "      <th>bc_util</th>\n",
       "      <th>chargeoff_within_12_mths</th>\n",
       "      <th>delinq_amnt</th>\n",
       "      <th>mo_sin_old_il_acct</th>\n",
       "      <th>mo_sin_old_rev_tl_op</th>\n",
       "      <th>mo_sin_rcnt_rev_tl_op</th>\n",
       "      <th>mo_sin_rcnt_tl</th>\n",
       "      <th>mort_acc</th>\n",
       "      <th>mths_since_recent_bc</th>\n",
       "      <th>mths_since_recent_bc_dlq</th>\n",
       "      <th>mths_since_recent_inq</th>\n",
       "      <th>mths_since_recent_revol_delinq</th>\n",
       "      <th>num_accts_ever_120_pd</th>\n",
       "      <th>num_actv_bc_tl</th>\n",
       "      <th>num_actv_rev_tl</th>\n",
       "      <th>num_bc_sats</th>\n",
       "      <th>num_bc_tl</th>\n",
       "      <th>num_il_tl</th>\n",
       "      <th>num_op_rev_tl</th>\n",
       "      <th>num_rev_accts</th>\n",
       "      <th>num_rev_tl_bal_gt_0</th>\n",
       "      <th>num_sats</th>\n",
       "      <th>num_tl_120dpd_2m</th>\n",
       "      <th>num_tl_30dpd</th>\n",
       "      <th>num_tl_90g_dpd_24m</th>\n",
       "      <th>num_tl_op_past_12m</th>\n",
       "      <th>pct_tl_nvr_dlq</th>\n",
       "      <th>percent_bc_gt_75</th>\n",
       "      <th>pub_rec_bankruptcies</th>\n",
       "      <th>tax_liens</th>\n",
       "      <th>tot_hi_cred_lim</th>\n",
       "      <th>total_bal_ex_mort</th>\n",
       "      <th>total_bc_limit</th>\n",
       "      <th>total_il_high_credit_limit</th>\n",
       "    </tr>\n",
       "  </thead>\n",
       "  <tbody>\n",
       "    <tr>\n",
       "      <th>count</th>\n",
       "      <td>39717</td>\n",
       "      <td>39717</td>\n",
       "      <td>39717</td>\n",
       "      <td>39717</td>\n",
       "      <td>39717</td>\n",
       "      <td>39717</td>\n",
       "      <td>39717</td>\n",
       "      <td>39717</td>\n",
       "      <td>39717</td>\n",
       "      <td>39717</td>\n",
       "      <td>37258</td>\n",
       "      <td>38642</td>\n",
       "      <td>39717</td>\n",
       "      <td>39717</td>\n",
       "      <td>39717</td>\n",
       "      <td>39717</td>\n",
       "      <td>39717</td>\n",
       "      <td>39717</td>\n",
       "      <td>39717</td>\n",
       "      <td>26777</td>\n",
       "      <td>39717</td>\n",
       "      <td>39706</td>\n",
       "      <td>39717</td>\n",
       "      <td>39717</td>\n",
       "      <td>39717</td>\n",
       "      <td>39717</td>\n",
       "      <td>39717</td>\n",
       "      <td>39717</td>\n",
       "      <td>14035</td>\n",
       "      <td>2786</td>\n",
       "      <td>39717</td>\n",
       "      <td>39717</td>\n",
       "      <td>39717</td>\n",
       "      <td>39667</td>\n",
       "      <td>39717</td>\n",
       "      <td>39717</td>\n",
       "      <td>39717</td>\n",
       "      <td>39717</td>\n",
       "      <td>39717</td>\n",
       "      <td>39717</td>\n",
       "      <td>39717</td>\n",
       "      <td>39717</td>\n",
       "      <td>39717</td>\n",
       "      <td>39717</td>\n",
       "      <td>39717</td>\n",
       "      <td>39646</td>\n",
       "      <td>39717</td>\n",
       "      <td>1140</td>\n",
       "      <td>39715</td>\n",
       "      <td>39661</td>\n",
       "      <td>0</td>\n",
       "      <td>39717</td>\n",
       "      <td>39717</td>\n",
       "      <td>0</td>\n",
       "      <td>0</td>\n",
       "      <td>0</td>\n",
       "      <td>39717</td>\n",
       "      <td>0</td>\n",
       "      <td>0</td>\n",
       "      <td>0</td>\n",
       "      <td>0</td>\n",
       "      <td>0</td>\n",
       "      <td>0</td>\n",
       "      <td>0</td>\n",
       "      <td>0</td>\n",
       "      <td>0</td>\n",
       "      <td>0</td>\n",
       "      <td>0</td>\n",
       "      <td>0</td>\n",
       "      <td>0</td>\n",
       "      <td>0</td>\n",
       "      <td>0</td>\n",
       "      <td>0</td>\n",
       "      <td>0</td>\n",
       "      <td>0</td>\n",
       "      <td>0</td>\n",
       "      <td>0</td>\n",
       "      <td>0</td>\n",
       "      <td>39661</td>\n",
       "      <td>39717</td>\n",
       "      <td>0</td>\n",
       "      <td>0</td>\n",
       "      <td>0</td>\n",
       "      <td>0</td>\n",
       "      <td>0</td>\n",
       "      <td>0</td>\n",
       "      <td>0</td>\n",
       "      <td>0</td>\n",
       "      <td>0</td>\n",
       "      <td>0</td>\n",
       "      <td>0</td>\n",
       "      <td>0</td>\n",
       "      <td>0</td>\n",
       "      <td>0</td>\n",
       "      <td>0</td>\n",
       "      <td>0</td>\n",
       "      <td>0</td>\n",
       "      <td>0</td>\n",
       "      <td>0</td>\n",
       "      <td>0</td>\n",
       "      <td>0</td>\n",
       "      <td>0</td>\n",
       "      <td>0</td>\n",
       "      <td>0</td>\n",
       "      <td>0</td>\n",
       "      <td>39020</td>\n",
       "      <td>39678</td>\n",
       "      <td>0</td>\n",
       "      <td>0</td>\n",
       "      <td>0</td>\n",
       "      <td>0</td>\n",
       "    </tr>\n",
       "    <tr>\n",
       "      <th>unique</th>\n",
       "      <td>39717</td>\n",
       "      <td>39717</td>\n",
       "      <td>885</td>\n",
       "      <td>1041</td>\n",
       "      <td>8205</td>\n",
       "      <td>2</td>\n",
       "      <td>371</td>\n",
       "      <td>15383</td>\n",
       "      <td>7</td>\n",
       "      <td>35</td>\n",
       "      <td>28820</td>\n",
       "      <td>11</td>\n",
       "      <td>5</td>\n",
       "      <td>5318</td>\n",
       "      <td>3</td>\n",
       "      <td>55</td>\n",
       "      <td>3</td>\n",
       "      <td>1</td>\n",
       "      <td>39717</td>\n",
       "      <td>26527</td>\n",
       "      <td>14</td>\n",
       "      <td>19615</td>\n",
       "      <td>823</td>\n",
       "      <td>50</td>\n",
       "      <td>2868</td>\n",
       "      <td>11</td>\n",
       "      <td>526</td>\n",
       "      <td>9</td>\n",
       "      <td>95</td>\n",
       "      <td>111</td>\n",
       "      <td>40</td>\n",
       "      <td>5</td>\n",
       "      <td>21711</td>\n",
       "      <td>1089</td>\n",
       "      <td>82</td>\n",
       "      <td>1</td>\n",
       "      <td>1137</td>\n",
       "      <td>1138</td>\n",
       "      <td>37850</td>\n",
       "      <td>37518</td>\n",
       "      <td>7976</td>\n",
       "      <td>35148</td>\n",
       "      <td>1356</td>\n",
       "      <td>4040</td>\n",
       "      <td>2616</td>\n",
       "      <td>101</td>\n",
       "      <td>34930</td>\n",
       "      <td>2</td>\n",
       "      <td>106</td>\n",
       "      <td>1</td>\n",
       "      <td>0</td>\n",
       "      <td>1</td>\n",
       "      <td>1</td>\n",
       "      <td>0</td>\n",
       "      <td>0</td>\n",
       "      <td>0</td>\n",
       "      <td>1</td>\n",
       "      <td>0</td>\n",
       "      <td>0</td>\n",
       "      <td>0</td>\n",
       "      <td>0</td>\n",
       "      <td>0</td>\n",
       "      <td>0</td>\n",
       "      <td>0</td>\n",
       "      <td>0</td>\n",
       "      <td>0</td>\n",
       "      <td>0</td>\n",
       "      <td>0</td>\n",
       "      <td>0</td>\n",
       "      <td>0</td>\n",
       "      <td>0</td>\n",
       "      <td>0</td>\n",
       "      <td>0</td>\n",
       "      <td>0</td>\n",
       "      <td>0</td>\n",
       "      <td>0</td>\n",
       "      <td>0</td>\n",
       "      <td>0</td>\n",
       "      <td>1</td>\n",
       "      <td>1</td>\n",
       "      <td>0</td>\n",
       "      <td>0</td>\n",
       "      <td>0</td>\n",
       "      <td>0</td>\n",
       "      <td>0</td>\n",
       "      <td>0</td>\n",
       "      <td>0</td>\n",
       "      <td>0</td>\n",
       "      <td>0</td>\n",
       "      <td>0</td>\n",
       "      <td>0</td>\n",
       "      <td>0</td>\n",
       "      <td>0</td>\n",
       "      <td>0</td>\n",
       "      <td>0</td>\n",
       "      <td>0</td>\n",
       "      <td>0</td>\n",
       "      <td>0</td>\n",
       "      <td>0</td>\n",
       "      <td>0</td>\n",
       "      <td>0</td>\n",
       "      <td>0</td>\n",
       "      <td>0</td>\n",
       "      <td>0</td>\n",
       "      <td>0</td>\n",
       "      <td>3</td>\n",
       "      <td>1</td>\n",
       "      <td>0</td>\n",
       "      <td>0</td>\n",
       "      <td>0</td>\n",
       "      <td>0</td>\n",
       "    </tr>\n",
       "    <tr>\n",
       "      <th>top</th>\n",
       "      <td>456812</td>\n",
       "      <td>862271</td>\n",
       "      <td>10000</td>\n",
       "      <td>10000</td>\n",
       "      <td>5000</td>\n",
       "      <td>36 months</td>\n",
       "      <td>10.99%</td>\n",
       "      <td>311.11</td>\n",
       "      <td>B</td>\n",
       "      <td>B3</td>\n",
       "      <td>US Army</td>\n",
       "      <td>10+ years</td>\n",
       "      <td>RENT</td>\n",
       "      <td>60000</td>\n",
       "      <td>Not Verified</td>\n",
       "      <td>Dec-11</td>\n",
       "      <td>Fully Paid</td>\n",
       "      <td>n</td>\n",
       "      <td>https://lendingclub.com/browse/loanDetail.acti...</td>\n",
       "      <td></td>\n",
       "      <td>debt_consolidation</td>\n",
       "      <td>Debt Consolidation</td>\n",
       "      <td>100xx</td>\n",
       "      <td>CA</td>\n",
       "      <td>0</td>\n",
       "      <td>0</td>\n",
       "      <td>Nov-98</td>\n",
       "      <td>0</td>\n",
       "      <td>0</td>\n",
       "      <td>0</td>\n",
       "      <td>7</td>\n",
       "      <td>0</td>\n",
       "      <td>0</td>\n",
       "      <td>0%</td>\n",
       "      <td>16</td>\n",
       "      <td>f</td>\n",
       "      <td>0</td>\n",
       "      <td>0</td>\n",
       "      <td>11196.56943</td>\n",
       "      <td>0</td>\n",
       "      <td>10000</td>\n",
       "      <td>0</td>\n",
       "      <td>0</td>\n",
       "      <td>0</td>\n",
       "      <td>0</td>\n",
       "      <td>May-16</td>\n",
       "      <td>0</td>\n",
       "      <td>Jun-16</td>\n",
       "      <td>May-16</td>\n",
       "      <td>0</td>\n",
       "      <td>NaN</td>\n",
       "      <td>1</td>\n",
       "      <td>INDIVIDUAL</td>\n",
       "      <td>NaN</td>\n",
       "      <td>NaN</td>\n",
       "      <td>NaN</td>\n",
       "      <td>0</td>\n",
       "      <td>NaN</td>\n",
       "      <td>NaN</td>\n",
       "      <td>NaN</td>\n",
       "      <td>NaN</td>\n",
       "      <td>NaN</td>\n",
       "      <td>NaN</td>\n",
       "      <td>NaN</td>\n",
       "      <td>NaN</td>\n",
       "      <td>NaN</td>\n",
       "      <td>NaN</td>\n",
       "      <td>NaN</td>\n",
       "      <td>NaN</td>\n",
       "      <td>NaN</td>\n",
       "      <td>NaN</td>\n",
       "      <td>NaN</td>\n",
       "      <td>NaN</td>\n",
       "      <td>NaN</td>\n",
       "      <td>NaN</td>\n",
       "      <td>NaN</td>\n",
       "      <td>NaN</td>\n",
       "      <td>NaN</td>\n",
       "      <td>0</td>\n",
       "      <td>0</td>\n",
       "      <td>NaN</td>\n",
       "      <td>NaN</td>\n",
       "      <td>NaN</td>\n",
       "      <td>NaN</td>\n",
       "      <td>NaN</td>\n",
       "      <td>NaN</td>\n",
       "      <td>NaN</td>\n",
       "      <td>NaN</td>\n",
       "      <td>NaN</td>\n",
       "      <td>NaN</td>\n",
       "      <td>NaN</td>\n",
       "      <td>NaN</td>\n",
       "      <td>NaN</td>\n",
       "      <td>NaN</td>\n",
       "      <td>NaN</td>\n",
       "      <td>NaN</td>\n",
       "      <td>NaN</td>\n",
       "      <td>NaN</td>\n",
       "      <td>NaN</td>\n",
       "      <td>NaN</td>\n",
       "      <td>NaN</td>\n",
       "      <td>NaN</td>\n",
       "      <td>NaN</td>\n",
       "      <td>NaN</td>\n",
       "      <td>NaN</td>\n",
       "      <td>0</td>\n",
       "      <td>0</td>\n",
       "      <td>NaN</td>\n",
       "      <td>NaN</td>\n",
       "      <td>NaN</td>\n",
       "      <td>NaN</td>\n",
       "    </tr>\n",
       "    <tr>\n",
       "      <th>freq</th>\n",
       "      <td>1</td>\n",
       "      <td>1</td>\n",
       "      <td>2833</td>\n",
       "      <td>2741</td>\n",
       "      <td>1309</td>\n",
       "      <td>29096</td>\n",
       "      <td>956</td>\n",
       "      <td>68</td>\n",
       "      <td>12020</td>\n",
       "      <td>2917</td>\n",
       "      <td>134</td>\n",
       "      <td>8879</td>\n",
       "      <td>18899</td>\n",
       "      <td>1505</td>\n",
       "      <td>16921</td>\n",
       "      <td>2260</td>\n",
       "      <td>32950</td>\n",
       "      <td>39717</td>\n",
       "      <td>1</td>\n",
       "      <td>210</td>\n",
       "      <td>18641</td>\n",
       "      <td>2184</td>\n",
       "      <td>597</td>\n",
       "      <td>7099</td>\n",
       "      <td>183</td>\n",
       "      <td>35405</td>\n",
       "      <td>370</td>\n",
       "      <td>19300</td>\n",
       "      <td>443</td>\n",
       "      <td>670</td>\n",
       "      <td>4018</td>\n",
       "      <td>37601</td>\n",
       "      <td>994</td>\n",
       "      <td>977</td>\n",
       "      <td>1471</td>\n",
       "      <td>39717</td>\n",
       "      <td>38577</td>\n",
       "      <td>38577</td>\n",
       "      <td>26</td>\n",
       "      <td>165</td>\n",
       "      <td>2293</td>\n",
       "      <td>71</td>\n",
       "      <td>37671</td>\n",
       "      <td>35499</td>\n",
       "      <td>35935</td>\n",
       "      <td>1256</td>\n",
       "      <td>74</td>\n",
       "      <td>1125</td>\n",
       "      <td>10308</td>\n",
       "      <td>39661</td>\n",
       "      <td>NaN</td>\n",
       "      <td>39717</td>\n",
       "      <td>39717</td>\n",
       "      <td>NaN</td>\n",
       "      <td>NaN</td>\n",
       "      <td>NaN</td>\n",
       "      <td>39717</td>\n",
       "      <td>NaN</td>\n",
       "      <td>NaN</td>\n",
       "      <td>NaN</td>\n",
       "      <td>NaN</td>\n",
       "      <td>NaN</td>\n",
       "      <td>NaN</td>\n",
       "      <td>NaN</td>\n",
       "      <td>NaN</td>\n",
       "      <td>NaN</td>\n",
       "      <td>NaN</td>\n",
       "      <td>NaN</td>\n",
       "      <td>NaN</td>\n",
       "      <td>NaN</td>\n",
       "      <td>NaN</td>\n",
       "      <td>NaN</td>\n",
       "      <td>NaN</td>\n",
       "      <td>NaN</td>\n",
       "      <td>NaN</td>\n",
       "      <td>NaN</td>\n",
       "      <td>NaN</td>\n",
       "      <td>NaN</td>\n",
       "      <td>39661</td>\n",
       "      <td>39717</td>\n",
       "      <td>NaN</td>\n",
       "      <td>NaN</td>\n",
       "      <td>NaN</td>\n",
       "      <td>NaN</td>\n",
       "      <td>NaN</td>\n",
       "      <td>NaN</td>\n",
       "      <td>NaN</td>\n",
       "      <td>NaN</td>\n",
       "      <td>NaN</td>\n",
       "      <td>NaN</td>\n",
       "      <td>NaN</td>\n",
       "      <td>NaN</td>\n",
       "      <td>NaN</td>\n",
       "      <td>NaN</td>\n",
       "      <td>NaN</td>\n",
       "      <td>NaN</td>\n",
       "      <td>NaN</td>\n",
       "      <td>NaN</td>\n",
       "      <td>NaN</td>\n",
       "      <td>NaN</td>\n",
       "      <td>NaN</td>\n",
       "      <td>NaN</td>\n",
       "      <td>NaN</td>\n",
       "      <td>NaN</td>\n",
       "      <td>NaN</td>\n",
       "      <td>37339</td>\n",
       "      <td>39678</td>\n",
       "      <td>NaN</td>\n",
       "      <td>NaN</td>\n",
       "      <td>NaN</td>\n",
       "      <td>NaN</td>\n",
       "    </tr>\n",
       "  </tbody>\n",
       "</table>\n",
       "</div>"
      ],
      "text/plain": [
       "            id member_id loan_amnt funded_amnt funded_amnt_inv        term  \\\n",
       "count    39717     39717     39717       39717           39717       39717   \n",
       "unique   39717     39717       885        1041            8205           2   \n",
       "top     456812    862271     10000       10000            5000   36 months   \n",
       "freq         1         1      2833        2741            1309       29096   \n",
       "\n",
       "       int_rate installment  grade sub_grade emp_title emp_length  \\\n",
       "count     39717       39717  39717     39717     37258      38642   \n",
       "unique      371       15383      7        35     28820         11   \n",
       "top      10.99%      311.11      B        B3   US Army  10+ years   \n",
       "freq        956          68  12020      2917       134       8879   \n",
       "\n",
       "       home_ownership annual_inc verification_status issue_d loan_status  \\\n",
       "count           39717      39717               39717   39717       39717   \n",
       "unique              5       5318                   3      55           3   \n",
       "top              RENT      60000        Not Verified  Dec-11  Fully Paid   \n",
       "freq            18899       1505               16921    2260       32950   \n",
       "\n",
       "       pymnt_plan                                                url   desc  \\\n",
       "count       39717                                              39717  26777   \n",
       "unique          1                                              39717  26527   \n",
       "top             n  https://lendingclub.com/browse/loanDetail.acti...          \n",
       "freq        39717                                                  1    210   \n",
       "\n",
       "                   purpose               title zip_code addr_state    dti  \\\n",
       "count                39717               39706    39717      39717  39717   \n",
       "unique                  14               19615      823         50   2868   \n",
       "top     debt_consolidation  Debt Consolidation    100xx         CA      0   \n",
       "freq                 18641                2184      597       7099    183   \n",
       "\n",
       "       delinq_2yrs earliest_cr_line inq_last_6mths mths_since_last_delinq  \\\n",
       "count        39717            39717          39717                  14035   \n",
       "unique          11              526              9                     95   \n",
       "top              0           Nov-98              0                      0   \n",
       "freq         35405              370          19300                    443   \n",
       "\n",
       "       mths_since_last_record open_acc pub_rec revol_bal revol_util total_acc  \\\n",
       "count                    2786    39717   39717     39717      39667     39717   \n",
       "unique                    111       40       5     21711       1089        82   \n",
       "top                         0        7       0         0         0%        16   \n",
       "freq                      670     4018   37601       994        977      1471   \n",
       "\n",
       "       initial_list_status out_prncp out_prncp_inv  total_pymnt  \\\n",
       "count                39717     39717         39717        39717   \n",
       "unique                   1      1137          1138        37850   \n",
       "top                      f         0             0  11196.56943   \n",
       "freq                 39717     38577         38577           26   \n",
       "\n",
       "       total_pymnt_inv total_rec_prncp total_rec_int total_rec_late_fee  \\\n",
       "count            39717           39717         39717              39717   \n",
       "unique           37518            7976         35148               1356   \n",
       "top                  0           10000             0                  0   \n",
       "freq               165            2293            71              37671   \n",
       "\n",
       "       recoveries collection_recovery_fee last_pymnt_d last_pymnt_amnt  \\\n",
       "count       39717                   39717        39646           39717   \n",
       "unique       4040                    2616          101           34930   \n",
       "top             0                       0       May-16               0   \n",
       "freq        35499                   35935         1256              74   \n",
       "\n",
       "       next_pymnt_d last_credit_pull_d collections_12_mths_ex_med  \\\n",
       "count          1140              39715                      39661   \n",
       "unique            2                106                          1   \n",
       "top          Jun-16             May-16                          0   \n",
       "freq           1125              10308                      39661   \n",
       "\n",
       "       mths_since_last_major_derog policy_code application_type  \\\n",
       "count                            0       39717            39717   \n",
       "unique                           0           1                1   \n",
       "top                            NaN           1       INDIVIDUAL   \n",
       "freq                           NaN       39717            39717   \n",
       "\n",
       "       annual_inc_joint dti_joint verification_status_joint acc_now_delinq  \\\n",
       "count                 0         0                         0          39717   \n",
       "unique                0         0                         0              1   \n",
       "top                 NaN       NaN                       NaN              0   \n",
       "freq                NaN       NaN                       NaN          39717   \n",
       "\n",
       "       tot_coll_amt tot_cur_bal open_acc_6m open_il_6m open_il_12m  \\\n",
       "count             0           0           0          0           0   \n",
       "unique            0           0           0          0           0   \n",
       "top             NaN         NaN         NaN        NaN         NaN   \n",
       "freq            NaN         NaN         NaN        NaN         NaN   \n",
       "\n",
       "       open_il_24m mths_since_rcnt_il total_bal_il il_util open_rv_12m  \\\n",
       "count            0                  0            0       0           0   \n",
       "unique           0                  0            0       0           0   \n",
       "top            NaN                NaN          NaN     NaN         NaN   \n",
       "freq           NaN                NaN          NaN     NaN         NaN   \n",
       "\n",
       "       open_rv_24m max_bal_bc all_util total_rev_hi_lim inq_fi total_cu_tl  \\\n",
       "count            0          0        0                0      0           0   \n",
       "unique           0          0        0                0      0           0   \n",
       "top            NaN        NaN      NaN              NaN    NaN         NaN   \n",
       "freq           NaN        NaN      NaN              NaN    NaN         NaN   \n",
       "\n",
       "       inq_last_12m acc_open_past_24mths avg_cur_bal bc_open_to_buy bc_util  \\\n",
       "count             0                    0           0              0       0   \n",
       "unique            0                    0           0              0       0   \n",
       "top             NaN                  NaN         NaN            NaN     NaN   \n",
       "freq            NaN                  NaN         NaN            NaN     NaN   \n",
       "\n",
       "       chargeoff_within_12_mths delinq_amnt mo_sin_old_il_acct  \\\n",
       "count                     39661       39717                  0   \n",
       "unique                        1           1                  0   \n",
       "top                           0           0                NaN   \n",
       "freq                      39661       39717                NaN   \n",
       "\n",
       "       mo_sin_old_rev_tl_op mo_sin_rcnt_rev_tl_op mo_sin_rcnt_tl mort_acc  \\\n",
       "count                     0                     0              0        0   \n",
       "unique                    0                     0              0        0   \n",
       "top                     NaN                   NaN            NaN      NaN   \n",
       "freq                    NaN                   NaN            NaN      NaN   \n",
       "\n",
       "       mths_since_recent_bc mths_since_recent_bc_dlq mths_since_recent_inq  \\\n",
       "count                     0                        0                     0   \n",
       "unique                    0                        0                     0   \n",
       "top                     NaN                      NaN                   NaN   \n",
       "freq                    NaN                      NaN                   NaN   \n",
       "\n",
       "       mths_since_recent_revol_delinq num_accts_ever_120_pd num_actv_bc_tl  \\\n",
       "count                               0                     0              0   \n",
       "unique                              0                     0              0   \n",
       "top                               NaN                   NaN            NaN   \n",
       "freq                              NaN                   NaN            NaN   \n",
       "\n",
       "       num_actv_rev_tl num_bc_sats num_bc_tl num_il_tl num_op_rev_tl  \\\n",
       "count                0           0         0         0             0   \n",
       "unique               0           0         0         0             0   \n",
       "top                NaN         NaN       NaN       NaN           NaN   \n",
       "freq               NaN         NaN       NaN       NaN           NaN   \n",
       "\n",
       "       num_rev_accts num_rev_tl_bal_gt_0 num_sats num_tl_120dpd_2m  \\\n",
       "count              0                   0        0                0   \n",
       "unique             0                   0        0                0   \n",
       "top              NaN                 NaN      NaN              NaN   \n",
       "freq             NaN                 NaN      NaN              NaN   \n",
       "\n",
       "       num_tl_30dpd num_tl_90g_dpd_24m num_tl_op_past_12m pct_tl_nvr_dlq  \\\n",
       "count             0                  0                  0              0   \n",
       "unique            0                  0                  0              0   \n",
       "top             NaN                NaN                NaN            NaN   \n",
       "freq            NaN                NaN                NaN            NaN   \n",
       "\n",
       "       percent_bc_gt_75 pub_rec_bankruptcies tax_liens tot_hi_cred_lim  \\\n",
       "count                 0                39020     39678               0   \n",
       "unique                0                    3         1               0   \n",
       "top                 NaN                    0         0             NaN   \n",
       "freq                NaN                37339     39678             NaN   \n",
       "\n",
       "       total_bal_ex_mort total_bc_limit total_il_high_credit_limit  \n",
       "count                  0              0                          0  \n",
       "unique                 0              0                          0  \n",
       "top                  NaN            NaN                        NaN  \n",
       "freq                 NaN            NaN                        NaN  "
      ]
     },
     "execution_count": 5,
     "metadata": {},
     "output_type": "execute_result"
    }
   ],
   "source": [
    "loan_data.describe()\n",
    "#Descriptive statistics include those that summarize the central tendency, dispersion and shape of a dataset’s distribution, excluding NaN values.\n",
    "# It will take all the Numerical values"
   ]
  },
  {
   "cell_type": "code",
   "execution_count": 6,
   "metadata": {},
   "outputs": [
    {
     "data": {
      "text/plain": [
       "(39717, 111)"
      ]
     },
     "execution_count": 6,
     "metadata": {},
     "output_type": "execute_result"
    }
   ],
   "source": [
    "loan_data.shape\n",
    "#Return a tuple representing the dimensionality of the DataFrame."
   ]
  },
  {
   "cell_type": "code",
   "execution_count": 7,
   "metadata": {},
   "outputs": [
    {
     "name": "stdout",
     "output_type": "stream",
     "text": [
      "<class 'pandas.core.frame.DataFrame'>\n",
      "RangeIndex: 39717 entries, 0 to 39716\n",
      "Columns: 111 entries, id to total_il_high_credit_limit\n",
      "dtypes: object(111)\n",
      "memory usage: 33.6+ MB\n"
     ]
    }
   ],
   "source": [
    "loan_data.info()\n",
    "#Print a concise summary of a DataFrame.\n",
    "#This method prints information about a DataFrame including the index dtype and columns, non-null values and memory usage."
   ]
  },
  {
   "cell_type": "markdown",
   "metadata": {},
   "source": [
    "## Step 3: Data Cleaning and Manipulation"
   ]
  },
  {
   "cell_type": "markdown",
   "metadata": {},
   "source": [
    "### 3.1 In this Step we will remove the NA and unwanted columns"
   ]
  },
  {
   "cell_type": "code",
   "execution_count": 10,
   "metadata": {},
   "outputs": [],
   "source": [
    "#Find number of Missing Columns, Columns with having 80% of the NA values\n",
    "\n",
    "\n",
    "# We have taken 0.8 value as we want to remove the NA values of rows having NA values approx to 80%\n",
    "thresh_limit = len(loan_data) * 0.8\n",
    "\n",
    "removed_thresh_data = loan_data.dropna(thresh=thresh_limit, axis=1)\n",
    "\n",
    "#This are the unwamted columns which will not be used for analysis\n",
    "removed_thresh_data = removed_thresh_data.drop([ 'member_id', 'id', 'url','delinq_amnt', 'acc_now_delinq', \n",
    "                                                'application_type','policy_code', 'pymnt_plan', \n",
    "                                                'initial_list_status', 'chargeoff_within_12_mths', 'tax_liens', \n",
    "                                                'collections_12_mths_ex_med','emp_title','delinq_2yrs'], axis =1)\n",
    "\n",
    "#Dropping title column as it has many duplicate category names indicating same category(Ex personel,Personal)\n",
    "removed_thresh_data.drop('title',inplace=True,axis=1)"
   ]
  },
  {
   "cell_type": "markdown",
   "metadata": {},
   "source": [
    "### 3.2 We will now format the data in the columns which will be used for analysis."
   ]
  },
  {
   "cell_type": "code",
   "execution_count": 11,
   "metadata": {},
   "outputs": [],
   "source": [
    "# We will now format the employement length column and convert it into Interger value. We will remove the special charcaters and string from the rows data\n",
    "\n",
    "#In the emp_length, int_rate, revol_util column we have many NA values , we will convert the NA to 0\n",
    "removed_thresh_data['emp_length'].fillna('0', inplace = True)\n",
    "removed_thresh_data['int_rate'].fillna('0', inplace = True)\n",
    "removed_thresh_data['revol_util'].fillna('0', inplace = True)\n",
    "\n",
    "#Now we will remove the string characters from the emp_length, int_rate, revol_util column and convert the datatype to Integer\n",
    "removed_thresh_data['emp_length']=removed_thresh_data['emp_length'].str.extract('(\\d+)').astype(int)\n",
    "removed_thresh_data['int_rate']=removed_thresh_data['int_rate'].str.extract('(\\d+)').astype(int)\n",
    "removed_thresh_data['revol_util']=removed_thresh_data['revol_util'].str.extract('(\\d+)').astype(int)\n",
    "removed_thresh_data['term']=removed_thresh_data['term'].str.extract('(\\d+)').astype(int)\n",
    "\n",
    "# Converting the Datatype to INT for the following columns using pd.to_numeric\n",
    "format_int_float_columns= ['loan_amnt','funded_amnt','int_rate','funded_amnt_inv',\n",
    "                            'installment','annual_inc','dti','emp_length','total_pymnt','total_pymnt_inv']\n",
    "removed_thresh_data[format_int_float_columns] = removed_thresh_data[format_int_float_columns].apply(pd.to_numeric)"
   ]
  },
  {
   "cell_type": "code",
   "execution_count": 37,
   "metadata": {},
   "outputs": [],
   "source": [
    "# Convert the Date column to Python DateTime object\n",
    "\n",
    "# For 'issue_d' column\n",
    "removed_thresh_data['issue_d'] = pd.to_datetime(removed_thresh_data.issue_d, format='%b-%y')\n",
    "removed_thresh_data['loan_issue_d_year']=removed_thresh_data['issue_d'].dt.year\n",
    "removed_thresh_data['loan_issue_d_month']=removed_thresh_data['issue_d'].dt.month_name()\n",
    "\n",
    "# For 'last_pymnt_d' & 'last_credit_pull_d' column\n",
    "removed_thresh_data['last_pymnt_d'] = pd.to_datetime(removed_thresh_data.last_pymnt_d, format='%b-%y')\n",
    "removed_thresh_data['last_credit_pull_d'] = pd.to_datetime(removed_thresh_data.last_credit_pull_d, format='%b-%y')\n"
   ]
  },
  {
   "cell_type": "markdown",
   "metadata": {},
   "source": [
    "### 3.3 Removing the Outliers"
   ]
  },
  {
   "cell_type": "code",
   "execution_count": 38,
   "metadata": {},
   "outputs": [],
   "source": [
    "#Finding out the loan to income percentage\n",
    "removed_thresh_data['loan_income_percentage']=removed_thresh_data['loan_amnt']/removed_thresh_data['annual_inc']*100\n",
    "\n",
    "#Finding out the investor profit percentage\n",
    "removed_thresh_data['investor_profit_percentage']=((removed_thresh_data['total_pymnt_inv']-removed_thresh_data['funded_amnt_inv'])/removed_thresh_data['funded_amnt_inv'])*100\n"
   ]
  },
  {
   "cell_type": "code",
   "execution_count": 39,
   "metadata": {},
   "outputs": [],
   "source": [
    "\n",
    "income_outliers_max = removed_thresh_data[\"annual_inc\"].quantile(0.999)\n",
    "income_outliers_min = removed_thresh_data[\"annual_inc\"].quantile(0.001)\n",
    "removed_thresh_data.drop(removed_thresh_data[~((removed_thresh_data[\"annual_inc\"] < income_outliers_max) & (removed_thresh_data[\"annual_inc\"] > income_outliers_min))].index, inplace = True)"
   ]
  },
  {
   "cell_type": "code",
   "execution_count": 40,
   "metadata": {},
   "outputs": [],
   "source": [
    "#Removing data having current loan status as its not helpful for analysis\n",
    "removed_thresh_data=removed_thresh_data[~(removed_thresh_data['loan_status']=='Current')]"
   ]
  },
  {
   "cell_type": "markdown",
   "metadata": {},
   "source": [
    "## Step 4 Doing the Analysis "
   ]
  },
  {
   "cell_type": "markdown",
   "metadata": {},
   "source": [
    "### 4.1 Univariate Analysis"
   ]
  },
  {
   "cell_type": "code",
   "execution_count": 41,
   "metadata": {},
   "outputs": [
    {
     "data": {
      "image/png": "[encoded data removed]",
      "text/plain": [
       "<Figure size 720x720 with 1 Axes>"
      ]
     },
     "metadata": {
      "needs_background": "light"
     },
     "output_type": "display_data"
    }
   ],
   "source": [
    "sns.boxplot(y=removed_thresh_data['loan_amnt'])\n",
    "plt.show()"
   ]
  },
  {
   "cell_type": "markdown",
   "metadata": {},
   "source": [
    "**Note: Median Loan amount is 10000 and highest loan is just 3 times of median value(There are no significant outliers )**"
   ]
  },
  {
   "cell_type": "code",
   "execution_count": 42,
   "metadata": {},
   "outputs": [
    {
     "data": {
      "image/png": "[encoded data removed]",
      "text/plain": [
       "<Figure size 720x720 with 1 Axes>"
      ]
     },
     "metadata": {
      "needs_background": "light"
     },
     "output_type": "display_data"
    }
   ],
   "source": [
    "sns.boxplot(y=removed_thresh_data['loan_income_percentage'])\n",
    "plt.show()"
   ]
  },
  {
   "cell_type": "markdown",
   "metadata": {},
   "source": [
    "**Note: Most of loans are around 20% of annual income, but there exists some outliers even to the range of 80% of annual income which needs to be monitored**"
   ]
  },
  {
   "cell_type": "code",
   "execution_count": 71,
   "metadata": {},
   "outputs": [
    {
     "data": {
      "text/plain": [
       "<seaborn.axisgrid.FacetGrid at 0x7effef7354f0>"
      ]
     },
     "execution_count": 71,
     "metadata": {},
     "output_type": "execute_result"
    },
    {
     "data": {
      "image/png": "[encoded data removed]",
      "text/plain": [
       "<Figure size 360x360 with 1 Axes>"
      ]
     },
     "metadata": {
      "needs_background": "light"
     },
     "output_type": "display_data"
    }
   ],
   "source": [
    "sns.displot(removed_thresh_data[\"int_rate\"],color='darkorange') "
   ]
  },
  {
   "cell_type": "markdown",
   "metadata": {},
   "source": [
    "**Note: Interest rate distribution is not unimodal which may imply that there is underlying interest rate metric for different group of people depending on risk**"
   ]
  },
  {
   "cell_type": "code",
   "execution_count": 44,
   "metadata": {},
   "outputs": [
    {
     "data": {
      "text/plain": [
       "<AxesSubplot:xlabel='grade', ylabel='count'>"
      ]
     },
     "execution_count": 44,
     "metadata": {},
     "output_type": "execute_result"
    },
    {
     "data": {
      "image/png": "[encoded data removed]",
      "text/plain": [
       "<Figure size 720x720 with 1 Axes>"
      ]
     },
     "metadata": {
      "needs_background": "light"
     },
     "output_type": "display_data"
    }
   ],
   "source": [
    "sns.countplot(x='grade',data=removed_thresh_data)"
   ]
  },
  {
   "cell_type": "markdown",
   "metadata": {},
   "source": [
    "**Note: Most of the loans are A and B grade loans which are assumed safe and very few are F and G which are risky.**"
   ]
  },
  {
   "cell_type": "code",
   "execution_count": 72,
   "metadata": {},
   "outputs": [
    {
     "data": {
      "text/plain": [
       "<seaborn.axisgrid.FacetGrid at 0x7effeedbed60>"
      ]
     },
     "execution_count": 72,
     "metadata": {},
     "output_type": "execute_result"
    },
    {
     "data": {
      "image/png": "[encoded data removed]",
      "text/plain": [
       "<Figure size 360x360 with 1 Axes>"
      ]
     },
     "metadata": {
      "needs_background": "light"
     },
     "output_type": "display_data"
    }
   ],
   "source": [
    "sns.displot(removed_thresh_data[\"loan_amnt\"],color='darkorange')"
   ]
  },
  {
   "cell_type": "markdown",
   "metadata": {},
   "source": [
    "**Note: As expected loan amounts which are multiples of 5000 have local peaks.Most loans are of 10000 and distribution is unimodal indicating no systematic bias for specific loan amounts**"
   ]
  },
  {
   "cell_type": "code",
   "execution_count": 46,
   "metadata": {},
   "outputs": [
    {
     "data": {
      "text/plain": [
       "<AxesSubplot:xlabel='term', ylabel='count'>"
      ]
     },
     "execution_count": 46,
     "metadata": {},
     "output_type": "execute_result"
    },
    {
     "data": {
      "image/png": "[encoded data removed]",
      "text/plain": [
       "<Figure size 720x720 with 1 Axes>"
      ]
     },
     "metadata": {
      "needs_background": "light"
     },
     "output_type": "display_data"
    }
   ],
   "source": [
    "sns.countplot(x='term',data=removed_thresh_data)"
   ]
  },
  {
   "cell_type": "markdown",
   "metadata": {},
   "source": [
    "**Note: Most loans are of 36 months term**"
   ]
  },
  {
   "cell_type": "code",
   "execution_count": 47,
   "metadata": {},
   "outputs": [
    {
     "data": {
      "image/png": "[encoded data removed]",
      "text/plain": [
       "<Figure size 720x720 with 1 Axes>"
      ]
     },
     "metadata": {
      "needs_background": "light"
     },
     "output_type": "display_data"
    }
   ],
   "source": [
    "sns.countplot(x='emp_length', data=removed_thresh_data)\n",
    "plt.xlabel('work_experience')\n",
    "plt.ylabel('loan_count')\n",
    "plt.show()"
   ]
  },
  {
   "cell_type": "markdown",
   "metadata": {},
   "source": [
    "**Note: Most loans are granted for people with 10/10+ years of experience and 1/<1 year experience.(0 refers to unknown work_experience)**"
   ]
  },
  {
   "cell_type": "code",
   "execution_count": 48,
   "metadata": {},
   "outputs": [
    {
     "data": {
      "image/png": "[encoded data removed]",
      "text/plain": [
       "<Figure size 720x720 with 1 Axes>"
      ]
     },
     "metadata": {
      "needs_background": "light"
     },
     "output_type": "display_data"
    }
   ],
   "source": [
    "sns.countplot(x='loan_status', data=removed_thresh_data)\n",
    "plt.show()"
   ]
  },
  {
   "cell_type": "markdown",
   "metadata": {},
   "source": [
    "**Note: Majority of loans are fully paid and 1/7th of total are charged off**"
   ]
  },
  {
   "cell_type": "code",
   "execution_count": 73,
   "metadata": {},
   "outputs": [
    {
     "data": {
      "image/png": "[encoded data removed]",
      "text/plain": [
       "<Figure size 360x360 with 1 Axes>"
      ]
     },
     "metadata": {
      "needs_background": "light"
     },
     "output_type": "display_data"
    }
   ],
   "source": [
    "sns.displot(removed_thresh_data[\"annual_inc\"],color='darkorange')\n",
    "plt.show()"
   ]
  },
  {
   "cell_type": "markdown",
   "metadata": {},
   "source": [
    "**Note: Most clients have annual income around 1 lac and most below 2 lacs and it tapers of to the right with high incomes(Removed extreme income values in data cleaning step)**"
   ]
  },
  {
   "cell_type": "code",
   "execution_count": 50,
   "metadata": {},
   "outputs": [
    {
     "data": {
      "image/png": "[encoded data removed]",
      "text/plain": [
       "<Figure size 720x720 with 1 Axes>"
      ]
     },
     "metadata": {
      "needs_background": "light"
     },
     "output_type": "display_data"
    }
   ],
   "source": [
    "sns.countplot(x='home_ownership', data=removed_thresh_data)\n",
    "plt.show()"
   ]
  },
  {
   "cell_type": "markdown",
   "metadata": {},
   "source": [
    "**Note: Very few clients have own houses whereas share of rent and mortgage categories are significant and similar**"
   ]
  },
  {
   "cell_type": "markdown",
   "metadata": {},
   "source": [
    "### 4.2 Segmented Univariate Analysis"
   ]
  },
  {
   "cell_type": "code",
   "execution_count": 51,
   "metadata": {},
   "outputs": [
    {
     "data": {
      "image/png": "[encoded data removed]",
      "text/plain": [
       "<Figure size 720x720 with 1 Axes>"
      ]
     },
     "metadata": {
      "needs_background": "light"
     },
     "output_type": "display_data"
    }
   ],
   "source": [
    "sns.countplot( x=\"term\", hue='loan_status', data=removed_thresh_data)\n",
    "plt.rcParams[\"figure.figsize\"] = (10,10)\n",
    "plt.show()"
   ]
  },
  {
   "cell_type": "markdown",
   "metadata": {},
   "source": [
    "**Note: More loans are issued for the 36 months tenure and proportion of Charged Off loans are more in 60 months tenure.** "
   ]
  },
  {
   "cell_type": "code",
   "execution_count": 52,
   "metadata": {},
   "outputs": [
    {
     "data": {
      "image/png": "[encoded data removed]",
      "text/plain": [
       "<Figure size 720x720 with 1 Axes>"
      ]
     },
     "metadata": {
      "needs_background": "light"
     },
     "output_type": "display_data"
    }
   ],
   "source": [
    "sns.countplot( x=\"emp_length\", hue='loan_status', data=removed_thresh_data)\n",
    "plt.rcParams[\"figure.figsize\"] = (10,10)\n",
    "plt.show()"
   ]
  },
  {
   "cell_type": "markdown",
   "metadata": {},
   "source": [
    "**Note: People with 10+ years of experience were given more loans and Charged off proportion is also significant.**"
   ]
  },
  {
   "cell_type": "markdown",
   "metadata": {},
   "source": [
    "### 4.3 Bivariate Analysis"
   ]
  },
  {
   "cell_type": "code",
   "execution_count": 53,
   "metadata": {},
   "outputs": [
    {
     "data": {
      "text/plain": [
       "<seaborn.matrix.ClusterGrid at 0x7effef80b7f0>"
      ]
     },
     "execution_count": 53,
     "metadata": {},
     "output_type": "execute_result"
    },
    {
     "data": {
      "image/png": "[encoded data removed]",
      "text/plain": [
       "<Figure size 864x720 with 4 Axes>"
      ]
     },
     "metadata": {
      "needs_background": "light"
     },
     "output_type": "display_data"
    }
   ],
   "source": [
    "sns.clustermap(removed_thresh_data.corr(),annot=True,figsize=(12, 10))"
   ]
  },
  {
   "cell_type": "markdown",
   "metadata": {},
   "source": [
    "**Note:**\n",
    "1. **Annual income is correlated with loan amount which implies that higher value loans are given for higher income individuals**\n",
    "2. **Interest rate is correlated with term of loan which implies higher term loans tend to have higher interest rates**\n",
    "3. **Interest rates are also correlated with revolving utilization which implies people using too much of their credit are being charged higher interest rate as they are considered to be risky**"
   ]
  },
  {
   "cell_type": "code",
   "execution_count": 54,
   "metadata": {},
   "outputs": [
    {
     "data": {
      "text/plain": [
       "<AxesSubplot:xlabel='grade', ylabel='int_rate'>"
      ]
     },
     "execution_count": 54,
     "metadata": {},
     "output_type": "execute_result"
    },
    {
     "data": {
      "image/png": "[encoded data removed]",
      "text/plain": [
       "<Figure size 720x720 with 1 Axes>"
      ]
     },
     "metadata": {
      "needs_background": "light"
     },
     "output_type": "display_data"
    }
   ],
   "source": [
    "sns.boxplot(y='int_rate', x='grade', data=removed_thresh_data)"
   ]
  },
  {
   "cell_type": "markdown",
   "metadata": {},
   "source": [
    "**Note: As grade of loan increases interest rate also is increasing which is in design itself.It is important to note that there are some outliers in each grade showing that strict adherence for grade profile is not universal**"
   ]
  },
  {
   "cell_type": "code",
   "execution_count": 55,
   "metadata": {},
   "outputs": [
    {
     "data": {
      "text/plain": [
       "<AxesSubplot:xlabel='grade', ylabel='investor_profit_percentage'>"
      ]
     },
     "execution_count": 55,
     "metadata": {},
     "output_type": "execute_result"
    },
    {
     "data": {
      "image/png": "[encoded data removed]",
      "text/plain": [
       "<Figure size 720x720 with 1 Axes>"
      ]
     },
     "metadata": {
      "needs_background": "light"
     },
     "output_type": "display_data"
    }
   ],
   "source": [
    "sns.boxplot(x='grade', y='investor_profit_percentage', data=removed_thresh_data)"
   ]
  },
  {
   "cell_type": "markdown",
   "metadata": {},
   "source": [
    "**Note: It is interesting to note that there is no significance difference between median values of profit percentage of investors between loan grades.But Grade A,B,C,D loans have higher least values which implies they don't carry significant loss probability as compared to other grades.So grading system seems to work.**"
   ]
  },
  {
   "cell_type": "code",
   "execution_count": 56,
   "metadata": {},
   "outputs": [
    {
     "data": {
      "text/plain": [
       "<AxesSubplot:xlabel='count', ylabel='purpose'>"
      ]
     },
     "execution_count": 56,
     "metadata": {},
     "output_type": "execute_result"
    },
    {
     "data": {
      "image/png": "[encoded data removed]",
      "text/plain": [
       "<Figure size 1080x1080 with 1 Axes>"
      ]
     },
     "metadata": {
      "needs_background": "light"
     },
     "output_type": "display_data"
    }
   ],
   "source": [
    "plt.figure(figsize=(15,15))\n",
    "sns.countplot(y=\"purpose\",data=removed_thresh_data,hue='loan_status')"
   ]
  },
  {
   "cell_type": "markdown",
   "metadata": {},
   "source": [
    "**Note: Although absolute number of total loans as well as charged off loans is higher for deb_consolidation, probability of charged off cannot be determined from the above graph**"
   ]
  },
  {
   "cell_type": "code",
   "execution_count": 57,
   "metadata": {},
   "outputs": [
    {
     "data": {
      "text/plain": [
       "Text(0, 0.5, 'debt to income ratio')"
      ]
     },
     "execution_count": 57,
     "metadata": {},
     "output_type": "execute_result"
    },
    {
     "data": {
      "image/png": "[encoded data removed]",
      "text/plain": [
       "<Figure size 720x720 with 1 Axes>"
      ]
     },
     "metadata": {
      "needs_background": "light"
     },
     "output_type": "display_data"
    }
   ],
   "source": [
    "sns.boxplot(y='dti', x='loan_status', data=removed_thresh_data)\n",
    "plt.ylabel('debt to income ratio')"
   ]
  },
  {
   "cell_type": "markdown",
   "metadata": {},
   "source": [
    "**Note: Although we expect debt to income ratio to be a good predictor of loan being charged off as high debt burden can be predecessor to default, its not a sensitive predictor as can be seen above(Although it can be seen that charged off loans have higher median dti than fully paid)**"
   ]
  },
  {
   "cell_type": "code",
   "execution_count": 58,
   "metadata": {},
   "outputs": [
    {
     "data": {
      "image/png": "[encoded data removed]",
      "text/plain": [
       "<Figure size 720x720 with 1 Axes>"
      ]
     },
     "metadata": {
      "needs_background": "light"
     },
     "output_type": "display_data"
    }
   ],
   "source": [
    "sns.countplot(x='loan_issue_d_year', data=removed_thresh_data)\n",
    "plt.show()"
   ]
  },
  {
   "cell_type": "markdown",
   "metadata": {},
   "source": [
    "**Note: Loan issued have increased multifold from 2007 to 2011**"
   ]
  },
  {
   "cell_type": "code",
   "execution_count": 59,
   "metadata": {},
   "outputs": [
    {
     "data": {
      "image/png": "[encoded data removed]",
      "text/plain": [
       "<Figure size 720x720 with 1 Axes>"
      ]
     },
     "metadata": {
      "needs_background": "light"
     },
     "output_type": "display_data"
    }
   ],
   "source": [
    "# We are taking the Charged off ratio by dividing the Charged Off Loan status with Total loan status and grouping by loan_issue_d_year.\n",
    "total_data = removed_thresh_data.groupby('loan_issue_d_year')['loan_status'].count()\n",
    "charged_off_data = removed_thresh_data[removed_thresh_data['loan_status']=='Charged Off'].groupby('loan_issue_d_year')['loan_status'].count()\n",
    "\n",
    "charged_off_ratio = charged_off_data.div(total_data)\n",
    "charged_off_ratio_df = charged_off_ratio.to_frame().reset_index()\n",
    "\n",
    "plt.bar(charged_off_ratio_df['loan_issue_d_year'],charged_off_ratio_df['loan_status'],align='center') # A bar chart\n",
    "plt.show()\n"
   ]
  },
  {
   "cell_type": "markdown",
   "metadata": {},
   "source": [
    "**Note: 2007 is the highest Charged Off loan, and there is no noticable trend in the charged off loans percentage even though loan issue has increased.**"
   ]
  },
  {
   "cell_type": "code",
   "execution_count": 60,
   "metadata": {},
   "outputs": [
    {
     "data": {
      "image/png": "[encoded data removed]",
      "text/plain": [
       "<Figure size 720x720 with 1 Axes>"
      ]
     },
     "metadata": {
      "needs_background": "light"
     },
     "output_type": "display_data"
    }
   ],
   "source": [
    "# We are taking the Charged off ratio by dividing the grade with Total loan status and grouping by grade\n",
    "total_data = removed_thresh_data.groupby('grade')['loan_status'].count()\n",
    "charged_off_data = removed_thresh_data[removed_thresh_data['loan_status']=='Charged Off'].groupby('grade')['loan_status'].count()\n",
    "charged_off_grade_ratio = charged_off_data.div(total_data)\n",
    "\n",
    "charged_off_grade_ratio_df = charged_off_grade_ratio.to_frame().reset_index()\n",
    "# charged_off_grafe_ratio_df\n",
    "\n",
    "plt.bar(charged_off_grade_ratio_df['grade'],charged_off_grade_ratio_df['loan_status'],align='center')\n",
    "\n",
    "plt.show()"
   ]
  },
  {
   "cell_type": "markdown",
   "metadata": {},
   "source": [
    "**Note: As the Grade increases, chances to Loan defaulter also increases implying good performance of grading system.**"
   ]
  },
  {
   "cell_type": "code",
   "execution_count": 62,
   "metadata": {},
   "outputs": [
    {
     "data": {
      "image/png": "[encoded data removed]",
      "text/plain": [
       "<Figure size 2880x216 with 1 Axes>"
      ]
     },
     "metadata": {
      "needs_background": "light"
     },
     "output_type": "display_data"
    }
   ],
   "source": [
    "# We are taking the Charged off ratio by dividing the state with Total loan status and group by addr_state.\n",
    "total_state_data = removed_thresh_data.groupby('addr_state')['loan_status'].count()\n",
    "charged_off_data = removed_thresh_data[removed_thresh_data['loan_status']=='Charged Off'].groupby('addr_state')['loan_status'].count()\n",
    "charged_off_state_ratio = charged_off_data.div(total_state_data)\n",
    "\n",
    "charged_off_state_ratio_df = charged_off_state_ratio.to_frame().reset_index()\n",
    "\n",
    "plt.bar(charged_off_state_ratio_df['addr_state'],charged_off_state_ratio_df['loan_status'],align='center')\n",
    "plt.rcParams[\"figure.figsize\"] = (40,3)\n",
    "plt.show()"
   ]
  },
  {
   "cell_type": "markdown",
   "metadata": {},
   "source": [
    "**Note: Nebraska (NE) has the highest people of loan charged off percentage and it is important to compare only ratio's not absolute numbers.**"
   ]
  },
  {
   "cell_type": "code",
   "execution_count": 63,
   "metadata": {},
   "outputs": [
    {
     "data": {
      "image/png": "[encoded data removed]",
      "text/plain": [
       "<Figure size 2880x216 with 1 Axes>"
      ]
     },
     "metadata": {
      "needs_background": "light"
     },
     "output_type": "display_data"
    }
   ],
   "source": [
    "# We are taking the Charged off ratio by dividing the Purpose with Total loan status and grouping by purpose.\n",
    "total_state_data = removed_thresh_data.groupby('purpose')['loan_status'].count()\n",
    "charged_off_data = removed_thresh_data[removed_thresh_data['loan_status']=='Charged Off'].groupby('purpose')['loan_status'].count()\n",
    "charged_off_purpose_ratio = charged_off_data.div(total_state_data)\n",
    "\n",
    "charged_off_purpose_ratio_df = charged_off_purpose_ratio.to_frame().reset_index()\n",
    "\n",
    "plt.bar(charged_off_purpose_ratio_df['purpose'],charged_off_purpose_ratio_df['loan_status'],align='center')\n",
    "plt.rcParams[\"figure.figsize\"] = (60,10)\n",
    "plt.show()"
   ]
  },
  {
   "cell_type": "markdown",
   "metadata": {},
   "source": [
    "**Note: Chances of loan defaulters are higher for Smaller Business loan type.**"
   ]
  },
  {
   "cell_type": "code",
   "execution_count": 68,
   "metadata": {},
   "outputs": [
    {
     "data": {
      "image/png": "[encoded data removed]",
      "text/plain": [
       "<Figure size 720x360 with 1 Axes>"
      ]
     },
     "metadata": {
      "needs_background": "light"
     },
     "output_type": "display_data"
    }
   ],
   "source": [
    "# We are taking the Charged off ratio by dividing the term with Total loan status and grouping by term.\n",
    "total_state_data = removed_thresh_data.groupby('term')['loan_status'].count()\n",
    "charged_off_data = removed_thresh_data[removed_thresh_data['loan_status']=='Charged Off'].groupby('term')['loan_status'].count()\n",
    "charged_off_term_ratio = charged_off_data.div(total_state_data)\n",
    "\n",
    "charged_off_term_ratio_df = charged_off_term_ratio.to_frame().reset_index()\n",
    "\n",
    "plt.bar(charged_off_term_ratio_df['term'],charged_off_term_ratio_df['loan_status'],align='center')\n",
    "plt.rcParams[\"figure.figsize\"] = (10,5)\n",
    "plt.show()"
   ]
  },
  {
   "cell_type": "markdown",
   "metadata": {},
   "source": [
    "**Note: Default rate in 60 months term loan is twice than 36 months term loan.**"
   ]
  },
  {
   "cell_type": "markdown",
   "metadata": {},
   "source": [
    "**===================================END=============================**"
   ]
  }
 ],
 "metadata": {
  "kernelspec": {
   "display_name": "Python 3",
   "language": "python",
   "name": "python3"
  },
  "language_info": {
   "codemirror_mode": {
    "name": "ipython",
    "version": 3
   },
   "file_extension": ".py",
   "mimetype": "text/x-python",
   "name": "python",
   "nbconvert_exporter": "python",
   "pygments_lexer": "ipython3",
   "version": "3.8.8"
  }
 },
 "nbformat": 4,
 "nbformat_minor": 2
}
